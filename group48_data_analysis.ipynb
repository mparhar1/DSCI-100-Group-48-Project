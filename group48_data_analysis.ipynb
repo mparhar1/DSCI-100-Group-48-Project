{
 "cells": [
  {
   "cell_type": "code",
   "execution_count": 1,
   "id": "90b722d8-0269-44a3-8d12-2f3090638838",
   "metadata": {},
   "outputs": [
    {
     "name": "stderr",
     "output_type": "stream",
     "text": [
      "── \u001b[1mAttaching packages\u001b[22m ─────────────────────────────────────── tidyverse 1.3.1 ──\n",
      "\n",
      "\u001b[32m✔\u001b[39m \u001b[34mggplot2\u001b[39m 3.3.6     \u001b[32m✔\u001b[39m \u001b[34mpurrr  \u001b[39m 0.3.4\n",
      "\u001b[32m✔\u001b[39m \u001b[34mtibble \u001b[39m 3.1.7     \u001b[32m✔\u001b[39m \u001b[34mdplyr  \u001b[39m 1.0.9\n",
      "\u001b[32m✔\u001b[39m \u001b[34mtidyr  \u001b[39m 1.2.0     \u001b[32m✔\u001b[39m \u001b[34mstringr\u001b[39m 1.4.0\n",
      "\u001b[32m✔\u001b[39m \u001b[34mreadr  \u001b[39m 2.1.2     \u001b[32m✔\u001b[39m \u001b[34mforcats\u001b[39m 0.5.1\n",
      "\n",
      "── \u001b[1mConflicts\u001b[22m ────────────────────────────────────────── tidyverse_conflicts() ──\n",
      "\u001b[31m✖\u001b[39m \u001b[34mdplyr\u001b[39m::\u001b[32mfilter()\u001b[39m masks \u001b[34mstats\u001b[39m::filter()\n",
      "\u001b[31m✖\u001b[39m \u001b[34mdplyr\u001b[39m::\u001b[32mlag()\u001b[39m    masks \u001b[34mstats\u001b[39m::lag()\n",
      "\n",
      "── \u001b[1mAttaching packages\u001b[22m ────────────────────────────────────── tidymodels 1.0.0 ──\n",
      "\n",
      "\u001b[32m✔\u001b[39m \u001b[34mbroom       \u001b[39m 1.0.0     \u001b[32m✔\u001b[39m \u001b[34mrsample     \u001b[39m 1.0.0\n",
      "\u001b[32m✔\u001b[39m \u001b[34mdials       \u001b[39m 1.0.0     \u001b[32m✔\u001b[39m \u001b[34mtune        \u001b[39m 1.0.0\n",
      "\u001b[32m✔\u001b[39m \u001b[34minfer       \u001b[39m 1.0.2     \u001b[32m✔\u001b[39m \u001b[34mworkflows   \u001b[39m 1.0.0\n",
      "\u001b[32m✔\u001b[39m \u001b[34mmodeldata   \u001b[39m 1.0.0     \u001b[32m✔\u001b[39m \u001b[34mworkflowsets\u001b[39m 1.0.0\n",
      "\u001b[32m✔\u001b[39m \u001b[34mparsnip     \u001b[39m 1.0.0     \u001b[32m✔\u001b[39m \u001b[34myardstick   \u001b[39m 1.0.0\n",
      "\u001b[32m✔\u001b[39m \u001b[34mrecipes     \u001b[39m 1.0.1     \n",
      "\n",
      "── \u001b[1mConflicts\u001b[22m ───────────────────────────────────────── tidymodels_conflicts() ──\n",
      "\u001b[31m✖\u001b[39m \u001b[34mscales\u001b[39m::\u001b[32mdiscard()\u001b[39m masks \u001b[34mpurrr\u001b[39m::discard()\n",
      "\u001b[31m✖\u001b[39m \u001b[34mdplyr\u001b[39m::\u001b[32mfilter()\u001b[39m   masks \u001b[34mstats\u001b[39m::filter()\n",
      "\u001b[31m✖\u001b[39m \u001b[34mrecipes\u001b[39m::\u001b[32mfixed()\u001b[39m  masks \u001b[34mstringr\u001b[39m::fixed()\n",
      "\u001b[31m✖\u001b[39m \u001b[34mdplyr\u001b[39m::\u001b[32mlag()\u001b[39m      masks \u001b[34mstats\u001b[39m::lag()\n",
      "\u001b[31m✖\u001b[39m \u001b[34myardstick\u001b[39m::\u001b[32mspec()\u001b[39m masks \u001b[34mreadr\u001b[39m::spec()\n",
      "\u001b[31m✖\u001b[39m \u001b[34mrecipes\u001b[39m::\u001b[32mstep()\u001b[39m   masks \u001b[34mstats\u001b[39m::step()\n",
      "\u001b[34m•\u001b[39m Use \u001b[32mtidymodels_prefer()\u001b[39m to resolve common conflicts.\n",
      "\n"
     ]
    }
   ],
   "source": [
    "library(tidyverse)\n",
    "library(repr)\n",
    "library(dplyr)\n",
    "library(tidymodels)"
   ]
  },
  {
   "cell_type": "code",
   "execution_count": 2,
   "id": "174f6d1c-dcb9-4ab3-95c3-ff5be353e889",
   "metadata": {},
   "outputs": [
    {
     "name": "stderr",
     "output_type": "stream",
     "text": [
      "\u001b[1mRows: \u001b[22m\u001b[34m836\u001b[39m \u001b[1mColumns: \u001b[22m\u001b[34m59\u001b[39m\n",
      "\u001b[36m──\u001b[39m \u001b[1mColumn specification\u001b[22m \u001b[36m────────────────────────────────────────────────────────\u001b[39m\n",
      "\u001b[1mDelimiter:\u001b[22m \",\"\n",
      "\u001b[31mchr\u001b[39m (46): ISO, WEO Subject Code, Country, Subject Descriptor, Subject Notes,...\n",
      "\u001b[32mdbl\u001b[39m  (2): WEO Country Code, Estimates Start After\n",
      "\n",
      "\u001b[36mℹ\u001b[39m Use `spec()` to retrieve the full column specification for this data.\n",
      "\u001b[36mℹ\u001b[39m Specify the column types or set `show_col_types = FALSE` to quiet this message.\n"
     ]
    }
   ],
   "source": [
    "G20_economic_data <- read_csv(\"https://raw.githubusercontent.com/mparhar1/DSCI-100-Group-48-Project/main/WEOApri23G20.csv\")\n",
    "colnames(G20_economic_data) <- make.names(colnames(G20_economic_data), unique = TRUE)"
   ]
  },
  {
   "cell_type": "code",
   "execution_count": 4,
   "id": "f1278b49-a5a0-4da7-b98f-b757b3831d10",
   "metadata": {},
   "outputs": [
    {
     "name": "stderr",
     "output_type": "stream",
     "text": [
      "\u001b[1m\u001b[22m`summarise()` has grouped output by 'Country', 'Year'. You can override using\n",
      "the `.groups` argument.\n"
     ]
    }
   ],
   "source": [
    "tidy_G20_economic_data <- G20_economic_data |>\n",
    "    select(Country,\n",
    "           Subject.Descriptor,\n",
    "           Units,\n",
    "           X2010:X2023\n",
    "          ) |>\n",
    "    filter(Subject.Descriptor == \"Gross domestic product per capita, current prices\" & Units == \"U.S. dollars\" |\n",
    "           Subject.Descriptor == \"Volume of imports of goods and services\" |\n",
    "           Subject.Descriptor == \"Volume of exports of goods and services\" | \n",
    "           Subject.Descriptor == \"Inflation, average consumer prices\" & Units == \"Percent change\" |\n",
    "           Subject.Descriptor == \"Unemployment rate\" \n",
    "          ) |>\n",
    "    filter(Country != \"Argentina\" & Country != \"Saudi Arabia\") |>\n",
    "    mutate(X2014 = as.numeric(gsub(\",\",\"\", X2014)),\n",
    "           X2015 = as.numeric(gsub(\",\",\"\", X2015)),\n",
    "           X2016 = as.numeric(gsub(\",\",\"\", X2016)),\n",
    "           X2022 = as.numeric(gsub(\",\",\"\", X2022)),\n",
    "           X2023 = as.numeric(gsub(\",\",\"\", X2023)),\n",
    "          ) |>\n",
    "    pivot_longer(cols = X2010:X2023,\n",
    "                 names_to = \"Year\",\n",
    "                 values_to = \"Metric\"\n",
    "                ) |>\n",
    "    group_by(Country, Year, Subject.Descriptor) |>\n",
    "    summarise(Metric = mean(Metric, na.rm = TRUE)) |>\n",
    "    pivot_wider(names_from = Subject.Descriptor,\n",
    "                values_from = Metric\n",
    "               )\n",
    "\n",
    "colnames(tidy_G20_economic_data) <- make.names(colnames(tidy_G20_economic_data), unique = TRUE)\n",
    "\n"
   ]
  },
  {
   "cell_type": "code",
   "execution_count": 6,
   "id": "79408577-09d3-4160-b009-ff08e6c67895",
   "metadata": {},
   "outputs": [],
   "source": [
    "set.seed(100)\n",
    "gdp_split <- initial_split(tidy_G20_economic_data, prop = 0.70, strata = Gross.domestic.product.per.capita..current.prices)\n",
    "gdp_training <- training(gdp_split)\n",
    "gdp_testing <- testing(gdp_split)\n"
   ]
  },
  {
   "cell_type": "code",
   "execution_count": 9,
   "id": "1eb3fcf5-d1b8-4757-9c4d-876fd94008c6",
   "metadata": {},
   "outputs": [
    {
     "data": {
      "text/plain": [
       "══ Workflow [trained] ══════════════════════════════════════════════════════════\n",
       "\u001b[3mPreprocessor:\u001b[23m Recipe\n",
       "\u001b[3mModel:\u001b[23m linear_reg()\n",
       "\n",
       "── Preprocessor ────────────────────────────────────────────────────────────────\n",
       "0 Recipe Steps\n",
       "\n",
       "── Model ───────────────────────────────────────────────────────────────────────\n",
       "\n",
       "Call:\n",
       "stats::lm(formula = ..y ~ ., data = data)\n",
       "\n",
       "Coefficients:\n",
       "                            (Intercept)  \n",
       "                                38632.1  \n",
       "     Inflation..average.consumer.prices  \n",
       "                                 -581.3  \n",
       "                      Unemployment.rate  \n",
       "                                 -836.3  \n",
       "Volume.of.exports.of.goods.and.services  \n",
       "                                 -284.9  \n",
       "Volume.of.imports.of.goods.and.services  \n",
       "                                  169.0  \n"
      ]
     },
     "metadata": {},
     "output_type": "display_data"
    }
   ],
   "source": [
    "\n",
    "lm_spec <- linear_reg() |>\n",
    "        set_engine(\"lm\") |>\n",
    "        set_mode(\"regression\")\n",
    "\n",
    "lm_recipe <- recipe(Gross.domestic.product.per.capita..current.prices ~ Inflation..average.consumer.prices + Unemployment.rate + Volume.of.exports.of.goods.and.services + Volume.of.imports.of.goods.and.services, data = gdp_training)\n",
    "\n",
    "lm_fit <- workflow() |>\n",
    "        add_recipe(lm_recipe) |>\n",
    "        add_model(lm_spec) |>\n",
    "        fit(data = gdp_training)\n",
    "\n",
    "lm_fit"
   ]
  },
  {
   "cell_type": "code",
   "execution_count": 12,
   "id": "48088b2a-acd9-4c3e-99b0-5532c7cd5d57",
   "metadata": {},
   "outputs": [
    {
     "data": {
      "text/html": [
       "19012.2052705668"
      ],
      "text/latex": [
       "19012.2052705668"
      ],
      "text/markdown": [
       "19012.2052705668"
      ],
      "text/plain": [
       "[1] 19012.21"
      ]
     },
     "metadata": {},
     "output_type": "display_data"
    }
   ],
   "source": [
    "lm_test_results <- lm_fit |>\n",
    "                predict(gdp_testing) |>\n",
    "                bind_cols(gdp_testing) |>\n",
    "                metrics(truth = Gross.domestic.product.per.capita..current.prices, estimate = .pred)\n",
    "\n",
    "lm_rmspe <- lm_test_results |>\n",
    "            filter(.metric == \"rmse\") |>\n",
    "            select(.estimate) |>\n",
    "            pull()\n",
    "lm_rmspe"
   ]
  },
  {
   "cell_type": "code",
   "execution_count": 20,
   "id": "81a36c3f-a8ff-49ea-bbf3-11350fddc760",
   "metadata": {
    "tags": []
   },
   "outputs": [
    {
     "data": {
      "text/html": [
       "<table class=\"dataframe\">\n",
       "<caption>A grouped_df: 14 × 7</caption>\n",
       "<thead>\n",
       "\t<tr><th scope=col>Country</th><th scope=col>Year</th><th scope=col>Gross.domestic.product.per.capita..current.prices</th><th scope=col>Inflation..average.consumer.prices</th><th scope=col>Unemployment.rate</th><th scope=col>Volume.of.exports.of.goods.and.services</th><th scope=col>Volume.of.imports.of.goods.and.services</th></tr>\n",
       "\t<tr><th scope=col>&lt;chr&gt;</th><th scope=col>&lt;chr&gt;</th><th scope=col>&lt;dbl&gt;</th><th scope=col>&lt;dbl&gt;</th><th scope=col>&lt;dbl&gt;</th><th scope=col>&lt;dbl&gt;</th><th scope=col>&lt;dbl&gt;</th></tr>\n",
       "</thead>\n",
       "<tbody>\n",
       "\t<tr><td>Australia</td><td>X2010</td><td>56579.03</td><td>2.863</td><td>5.208</td><td> 5.709</td><td> 16.142</td></tr>\n",
       "\t<tr><td>Australia</td><td>X2011</td><td>67270.36</td><td>3.356</td><td>5.083</td><td>-0.144</td><td> 10.557</td></tr>\n",
       "\t<tr><td>Australia</td><td>X2012</td><td>68450.31</td><td>1.686</td><td>5.233</td><td> 5.420</td><td>  6.183</td></tr>\n",
       "\t<tr><td>Australia</td><td>X2013</td><td>65200.37</td><td>2.450</td><td>5.658</td><td> 5.890</td><td> -2.284</td></tr>\n",
       "\t<tr><td>Australia</td><td>X2014</td><td>61615.05</td><td>2.513</td><td>6.058</td><td> 7.010</td><td> -1.410</td></tr>\n",
       "\t<tr><td>Australia</td><td>X2015</td><td>51412.25</td><td>1.485</td><td>6.050</td><td> 6.319</td><td>  2.265</td></tr>\n",
       "\t<tr><td>Australia</td><td>X2016</td><td>51813.64</td><td>1.277</td><td>5.708</td><td> 6.673</td><td>  0.131</td></tr>\n",
       "\t<tr><td>Australia</td><td>X2017</td><td>55797.38</td><td>1.995</td><td>5.583</td><td> 3.432</td><td>  7.775</td></tr>\n",
       "\t<tr><td>Australia</td><td>X2018</td><td>56341.94</td><td>1.933</td><td>5.292</td><td> 5.112</td><td>  4.275</td></tr>\n",
       "\t<tr><td>Australia</td><td>X2019</td><td>54266.75</td><td>1.588</td><td>5.192</td><td> 3.226</td><td> -1.033</td></tr>\n",
       "\t<tr><td>Australia</td><td>X2020</td><td>53071.72</td><td>0.868</td><td>6.492</td><td>-9.655</td><td>-12.836</td></tr>\n",
       "\t<tr><td>Australia</td><td>X2021</td><td>63896.30</td><td>2.820</td><td>5.100</td><td>-1.958</td><td>  5.361</td></tr>\n",
       "\t<tr><td>Australia</td><td>X2022</td><td>65526.12</td><td>6.615</td><td>3.708</td><td> 3.271</td><td> 12.642</td></tr>\n",
       "\t<tr><td>Australia</td><td>X2023</td><td>64964.28</td><td>5.348</td><td>3.961</td><td> 7.152</td><td>  4.910</td></tr>\n",
       "</tbody>\n",
       "</table>\n"
      ],
      "text/latex": [
       "A grouped\\_df: 14 × 7\n",
       "\\begin{tabular}{lllllll}\n",
       " Country & Year & Gross.domestic.product.per.capita..current.prices & Inflation..average.consumer.prices & Unemployment.rate & Volume.of.exports.of.goods.and.services & Volume.of.imports.of.goods.and.services\\\\\n",
       " <chr> & <chr> & <dbl> & <dbl> & <dbl> & <dbl> & <dbl>\\\\\n",
       "\\hline\n",
       "\t Australia & X2010 & 56579.03 & 2.863 & 5.208 &  5.709 &  16.142\\\\\n",
       "\t Australia & X2011 & 67270.36 & 3.356 & 5.083 & -0.144 &  10.557\\\\\n",
       "\t Australia & X2012 & 68450.31 & 1.686 & 5.233 &  5.420 &   6.183\\\\\n",
       "\t Australia & X2013 & 65200.37 & 2.450 & 5.658 &  5.890 &  -2.284\\\\\n",
       "\t Australia & X2014 & 61615.05 & 2.513 & 6.058 &  7.010 &  -1.410\\\\\n",
       "\t Australia & X2015 & 51412.25 & 1.485 & 6.050 &  6.319 &   2.265\\\\\n",
       "\t Australia & X2016 & 51813.64 & 1.277 & 5.708 &  6.673 &   0.131\\\\\n",
       "\t Australia & X2017 & 55797.38 & 1.995 & 5.583 &  3.432 &   7.775\\\\\n",
       "\t Australia & X2018 & 56341.94 & 1.933 & 5.292 &  5.112 &   4.275\\\\\n",
       "\t Australia & X2019 & 54266.75 & 1.588 & 5.192 &  3.226 &  -1.033\\\\\n",
       "\t Australia & X2020 & 53071.72 & 0.868 & 6.492 & -9.655 & -12.836\\\\\n",
       "\t Australia & X2021 & 63896.30 & 2.820 & 5.100 & -1.958 &   5.361\\\\\n",
       "\t Australia & X2022 & 65526.12 & 6.615 & 3.708 &  3.271 &  12.642\\\\\n",
       "\t Australia & X2023 & 64964.28 & 5.348 & 3.961 &  7.152 &   4.910\\\\\n",
       "\\end{tabular}\n"
      ],
      "text/markdown": [
       "\n",
       "A grouped_df: 14 × 7\n",
       "\n",
       "| Country &lt;chr&gt; | Year &lt;chr&gt; | Gross.domestic.product.per.capita..current.prices &lt;dbl&gt; | Inflation..average.consumer.prices &lt;dbl&gt; | Unemployment.rate &lt;dbl&gt; | Volume.of.exports.of.goods.and.services &lt;dbl&gt; | Volume.of.imports.of.goods.and.services &lt;dbl&gt; |\n",
       "|---|---|---|---|---|---|---|\n",
       "| Australia | X2010 | 56579.03 | 2.863 | 5.208 |  5.709 |  16.142 |\n",
       "| Australia | X2011 | 67270.36 | 3.356 | 5.083 | -0.144 |  10.557 |\n",
       "| Australia | X2012 | 68450.31 | 1.686 | 5.233 |  5.420 |   6.183 |\n",
       "| Australia | X2013 | 65200.37 | 2.450 | 5.658 |  5.890 |  -2.284 |\n",
       "| Australia | X2014 | 61615.05 | 2.513 | 6.058 |  7.010 |  -1.410 |\n",
       "| Australia | X2015 | 51412.25 | 1.485 | 6.050 |  6.319 |   2.265 |\n",
       "| Australia | X2016 | 51813.64 | 1.277 | 5.708 |  6.673 |   0.131 |\n",
       "| Australia | X2017 | 55797.38 | 1.995 | 5.583 |  3.432 |   7.775 |\n",
       "| Australia | X2018 | 56341.94 | 1.933 | 5.292 |  5.112 |   4.275 |\n",
       "| Australia | X2019 | 54266.75 | 1.588 | 5.192 |  3.226 |  -1.033 |\n",
       "| Australia | X2020 | 53071.72 | 0.868 | 6.492 | -9.655 | -12.836 |\n",
       "| Australia | X2021 | 63896.30 | 2.820 | 5.100 | -1.958 |   5.361 |\n",
       "| Australia | X2022 | 65526.12 | 6.615 | 3.708 |  3.271 |  12.642 |\n",
       "| Australia | X2023 | 64964.28 | 5.348 | 3.961 |  7.152 |   4.910 |\n",
       "\n"
      ],
      "text/plain": [
       "   Country   Year  Gross.domestic.product.per.capita..current.prices\n",
       "1  Australia X2010 56579.03                                         \n",
       "2  Australia X2011 67270.36                                         \n",
       "3  Australia X2012 68450.31                                         \n",
       "4  Australia X2013 65200.37                                         \n",
       "5  Australia X2014 61615.05                                         \n",
       "6  Australia X2015 51412.25                                         \n",
       "7  Australia X2016 51813.64                                         \n",
       "8  Australia X2017 55797.38                                         \n",
       "9  Australia X2018 56341.94                                         \n",
       "10 Australia X2019 54266.75                                         \n",
       "11 Australia X2020 53071.72                                         \n",
       "12 Australia X2021 63896.30                                         \n",
       "13 Australia X2022 65526.12                                         \n",
       "14 Australia X2023 64964.28                                         \n",
       "   Inflation..average.consumer.prices Unemployment.rate\n",
       "1  2.863                              5.208            \n",
       "2  3.356                              5.083            \n",
       "3  1.686                              5.233            \n",
       "4  2.450                              5.658            \n",
       "5  2.513                              6.058            \n",
       "6  1.485                              6.050            \n",
       "7  1.277                              5.708            \n",
       "8  1.995                              5.583            \n",
       "9  1.933                              5.292            \n",
       "10 1.588                              5.192            \n",
       "11 0.868                              6.492            \n",
       "12 2.820                              5.100            \n",
       "13 6.615                              3.708            \n",
       "14 5.348                              3.961            \n",
       "   Volume.of.exports.of.goods.and.services\n",
       "1   5.709                                 \n",
       "2  -0.144                                 \n",
       "3   5.420                                 \n",
       "4   5.890                                 \n",
       "5   7.010                                 \n",
       "6   6.319                                 \n",
       "7   6.673                                 \n",
       "8   3.432                                 \n",
       "9   5.112                                 \n",
       "10  3.226                                 \n",
       "11 -9.655                                 \n",
       "12 -1.958                                 \n",
       "13  3.271                                 \n",
       "14  7.152                                 \n",
       "   Volume.of.imports.of.goods.and.services\n",
       "1   16.142                                \n",
       "2   10.557                                \n",
       "3    6.183                                \n",
       "4   -2.284                                \n",
       "5   -1.410                                \n",
       "6    2.265                                \n",
       "7    0.131                                \n",
       "8    7.775                                \n",
       "9    4.275                                \n",
       "10  -1.033                                \n",
       "11 -12.836                                \n",
       "12   5.361                                \n",
       "13  12.642                                \n",
       "14   4.910                                "
      ]
     },
     "metadata": {},
     "output_type": "display_data"
    }
   ],
   "source": [
    "australia <- filter(tidy_G20_economic_data, Country == \"Australia\")\n",
    "australia"
   ]
  },
  {
   "cell_type": "code",
   "execution_count": 21,
   "id": "12a0b412-5dd2-4795-95ab-27fe0aa0a7b1",
   "metadata": {},
   "outputs": [
    {
     "name": "stderr",
     "output_type": "stream",
     "text": [
      "Warning message:\n",
      "“The number of observations in each quantile is below the recommended threshold of 20.\n",
      "\u001b[36m•\u001b[39m Stratification will use 0 breaks instead.”\n",
      "Warning message:\n",
      "“Too little data to stratify.\n",
      "\u001b[36m•\u001b[39m Resampling will be unstratified.”\n"
     ]
    }
   ],
   "source": [
    "set.seed(100)\n",
    "aus_split <- initial_split(australia, prop = 0.70, strata = Gross.domestic.product.per.capita..current.prices)\n",
    "aus_training <- training(aus_split)\n",
    "aus_testing <- testing(aus_split)\n"
   ]
  },
  {
   "cell_type": "code",
   "execution_count": 22,
   "id": "1d6b73aa-bdb1-4c6f-9ec9-ce0719ceb3b7",
   "metadata": {},
   "outputs": [
    {
     "data": {
      "text/plain": [
       "══ Workflow [trained] ══════════════════════════════════════════════════════════\n",
       "\u001b[3mPreprocessor:\u001b[23m Recipe\n",
       "\u001b[3mModel:\u001b[23m linear_reg()\n",
       "\n",
       "── Preprocessor ────────────────────────────────────────────────────────────────\n",
       "0 Recipe Steps\n",
       "\n",
       "── Model ───────────────────────────────────────────────────────────────────────\n",
       "\n",
       "Call:\n",
       "stats::lm(formula = ..y ~ ., data = data)\n",
       "\n",
       "Coefficients:\n",
       "                            (Intercept)  \n",
       "                               136702.1  \n",
       "     Inflation..average.consumer.prices  \n",
       "                                -4594.7  \n",
       "                      Unemployment.rate  \n",
       "                               -13520.2  \n",
       "Volume.of.exports.of.goods.and.services  \n",
       "                                 -161.7  \n",
       "Volume.of.imports.of.goods.and.services  \n",
       "                                  980.9  \n"
      ]
     },
     "metadata": {},
     "output_type": "display_data"
    }
   ],
   "source": [
    "lm_aus <- linear_reg() |>\n",
    "        set_engine(\"lm\") |>\n",
    "        set_mode(\"regression\")\n",
    "\n",
    "lm_recipe_aus <- recipe(Gross.domestic.product.per.capita..current.prices ~ Inflation..average.consumer.prices + Unemployment.rate + Volume.of.exports.of.goods.and.services + Volume.of.imports.of.goods.and.services, data = aus_training)\n",
    "\n",
    "lm_fit_aus <- workflow() |>\n",
    "        add_recipe(lm_recipe) |>\n",
    "        add_model(lm_spec) |>\n",
    "        fit(data = aus_training)\n",
    "\n",
    "lm_fit_aus"
   ]
  },
  {
   "cell_type": "code",
   "execution_count": 23,
   "id": "62892a00-586f-47c5-be93-e38a88db91ce",
   "metadata": {},
   "outputs": [
    {
     "data": {
      "text/html": [
       "16318.8893084298"
      ],
      "text/latex": [
       "16318.8893084298"
      ],
      "text/markdown": [
       "16318.8893084298"
      ],
      "text/plain": [
       "[1] 16318.89"
      ]
     },
     "metadata": {},
     "output_type": "display_data"
    }
   ],
   "source": [
    "lm_test_results_aus <- lm_fit_aus |>\n",
    "                predict(aus_testing) |>\n",
    "                bind_cols(aus_testing) |>\n",
    "                metrics(truth = Gross.domestic.product.per.capita..current.prices, estimate = .pred)\n",
    "\n",
    "lm_rmspe_aus <- lm_test_results_aus |>\n",
    "            filter(.metric == \"rmse\") |>\n",
    "            select(.estimate) |>\n",
    "            pull()\n",
    "lm_rmspe_aus"
   ]
  },
  {
   "cell_type": "code",
   "execution_count": null,
   "id": "7d07b6ed-e33f-4345-b0f2-f4f684eed7e1",
   "metadata": {},
   "outputs": [],
   "source": [
    "canada <- filter(tidy_G20_economic_data, Country == \"Australia\")\n",
    "australia"
   ]
  }
 ],
 "metadata": {
  "kernelspec": {
   "display_name": "R",
   "language": "R",
   "name": "ir"
  },
  "language_info": {
   "codemirror_mode": "r",
   "file_extension": ".r",
   "mimetype": "text/x-r-source",
   "name": "R",
   "pygments_lexer": "r",
   "version": "4.1.3"
  }
 },
 "nbformat": 4,
 "nbformat_minor": 5
}
