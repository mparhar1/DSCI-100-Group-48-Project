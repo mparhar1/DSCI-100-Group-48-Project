{
 "cells": [
  {
   "cell_type": "code",
   "execution_count": 1,
   "id": "90b722d8-0269-44a3-8d12-2f3090638838",
   "metadata": {},
   "outputs": [
    {
     "name": "stderr",
     "output_type": "stream",
     "text": [
      "── \u001b[1mAttaching packages\u001b[22m ─────────────────────────────────────── tidyverse 1.3.1 ──\n",
      "\n",
      "\u001b[32m✔\u001b[39m \u001b[34mggplot2\u001b[39m 3.3.6     \u001b[32m✔\u001b[39m \u001b[34mpurrr  \u001b[39m 0.3.4\n",
      "\u001b[32m✔\u001b[39m \u001b[34mtibble \u001b[39m 3.1.7     \u001b[32m✔\u001b[39m \u001b[34mdplyr  \u001b[39m 1.0.9\n",
      "\u001b[32m✔\u001b[39m \u001b[34mtidyr  \u001b[39m 1.2.0     \u001b[32m✔\u001b[39m \u001b[34mstringr\u001b[39m 1.4.0\n",
      "\u001b[32m✔\u001b[39m \u001b[34mreadr  \u001b[39m 2.1.2     \u001b[32m✔\u001b[39m \u001b[34mforcats\u001b[39m 0.5.1\n",
      "\n",
      "── \u001b[1mConflicts\u001b[22m ────────────────────────────────────────── tidyverse_conflicts() ──\n",
      "\u001b[31m✖\u001b[39m \u001b[34mdplyr\u001b[39m::\u001b[32mfilter()\u001b[39m masks \u001b[34mstats\u001b[39m::filter()\n",
      "\u001b[31m✖\u001b[39m \u001b[34mdplyr\u001b[39m::\u001b[32mlag()\u001b[39m    masks \u001b[34mstats\u001b[39m::lag()\n",
      "\n",
      "── \u001b[1mAttaching packages\u001b[22m ────────────────────────────────────── tidymodels 1.0.0 ──\n",
      "\n",
      "\u001b[32m✔\u001b[39m \u001b[34mbroom       \u001b[39m 1.0.0     \u001b[32m✔\u001b[39m \u001b[34mrsample     \u001b[39m 1.0.0\n",
      "\u001b[32m✔\u001b[39m \u001b[34mdials       \u001b[39m 1.0.0     \u001b[32m✔\u001b[39m \u001b[34mtune        \u001b[39m 1.0.0\n",
      "\u001b[32m✔\u001b[39m \u001b[34minfer       \u001b[39m 1.0.2     \u001b[32m✔\u001b[39m \u001b[34mworkflows   \u001b[39m 1.0.0\n",
      "\u001b[32m✔\u001b[39m \u001b[34mmodeldata   \u001b[39m 1.0.0     \u001b[32m✔\u001b[39m \u001b[34mworkflowsets\u001b[39m 1.0.0\n",
      "\u001b[32m✔\u001b[39m \u001b[34mparsnip     \u001b[39m 1.0.0     \u001b[32m✔\u001b[39m \u001b[34myardstick   \u001b[39m 1.0.0\n",
      "\u001b[32m✔\u001b[39m \u001b[34mrecipes     \u001b[39m 1.0.1     \n",
      "\n",
      "── \u001b[1mConflicts\u001b[22m ───────────────────────────────────────── tidymodels_conflicts() ──\n",
      "\u001b[31m✖\u001b[39m \u001b[34mscales\u001b[39m::\u001b[32mdiscard()\u001b[39m masks \u001b[34mpurrr\u001b[39m::discard()\n",
      "\u001b[31m✖\u001b[39m \u001b[34mdplyr\u001b[39m::\u001b[32mfilter()\u001b[39m   masks \u001b[34mstats\u001b[39m::filter()\n",
      "\u001b[31m✖\u001b[39m \u001b[34mrecipes\u001b[39m::\u001b[32mfixed()\u001b[39m  masks \u001b[34mstringr\u001b[39m::fixed()\n",
      "\u001b[31m✖\u001b[39m \u001b[34mdplyr\u001b[39m::\u001b[32mlag()\u001b[39m      masks \u001b[34mstats\u001b[39m::lag()\n",
      "\u001b[31m✖\u001b[39m \u001b[34myardstick\u001b[39m::\u001b[32mspec()\u001b[39m masks \u001b[34mreadr\u001b[39m::spec()\n",
      "\u001b[31m✖\u001b[39m \u001b[34mrecipes\u001b[39m::\u001b[32mstep()\u001b[39m   masks \u001b[34mstats\u001b[39m::step()\n",
      "\u001b[34m•\u001b[39m Use \u001b[32mtidymodels_prefer()\u001b[39m to resolve common conflicts.\n",
      "\n"
     ]
    }
   ],
   "source": [
    "library(tidyverse)\n",
    "library(repr)\n",
    "library(dplyr)\n",
    "library(tidymodels)"
   ]
  },
  {
   "cell_type": "code",
   "execution_count": 2,
   "id": "174f6d1c-dcb9-4ab3-95c3-ff5be353e889",
   "metadata": {},
   "outputs": [
    {
     "name": "stderr",
     "output_type": "stream",
     "text": [
      "\u001b[1mRows: \u001b[22m\u001b[34m836\u001b[39m \u001b[1mColumns: \u001b[22m\u001b[34m59\u001b[39m\n",
      "\u001b[36m──\u001b[39m \u001b[1mColumn specification\u001b[22m \u001b[36m────────────────────────────────────────────────────────\u001b[39m\n",
      "\u001b[1mDelimiter:\u001b[22m \",\"\n",
      "\u001b[31mchr\u001b[39m (46): ISO, WEO Subject Code, Country, Subject Descriptor, Subject Notes,...\n",
      "\u001b[32mdbl\u001b[39m  (2): WEO Country Code, Estimates Start After\n",
      "\n",
      "\u001b[36mℹ\u001b[39m Use `spec()` to retrieve the full column specification for this data.\n",
      "\u001b[36mℹ\u001b[39m Specify the column types or set `show_col_types = FALSE` to quiet this message.\n"
     ]
    }
   ],
   "source": [
    "G20_economic_data <- read_csv(\"https://raw.githubusercontent.com/mparhar1/DSCI-100-Group-48-Project/main/WEOApri23G20.csv\")\n",
    "colnames(G20_economic_data) <- make.names(colnames(G20_economic_data), unique = TRUE)"
   ]
  },
  {
   "cell_type": "code",
   "execution_count": 4,
   "id": "f1278b49-a5a0-4da7-b98f-b757b3831d10",
   "metadata": {},
   "outputs": [
    {
     "name": "stderr",
     "output_type": "stream",
     "text": [
      "\u001b[1m\u001b[22m`summarise()` has grouped output by 'Country', 'Year'. You can override using\n",
      "the `.groups` argument.\n"
     ]
    }
   ],
   "source": [
    "tidy_G20_economic_data <- G20_economic_data |>\n",
    "    select(Country,\n",
    "           Subject.Descriptor,\n",
    "           Units,\n",
    "           X2010:X2023\n",
    "          ) |>\n",
    "    filter(Subject.Descriptor == \"Gross domestic product per capita, current prices\" & Units == \"U.S. dollars\" |\n",
    "           Subject.Descriptor == \"Volume of imports of goods and services\" |\n",
    "           Subject.Descriptor == \"Volume of exports of goods and services\" | \n",
    "           Subject.Descriptor == \"Inflation, average consumer prices\" & Units == \"Percent change\" |\n",
    "           Subject.Descriptor == \"Unemployment rate\" \n",
    "          ) |>\n",
    "    filter(Country != \"Argentina\" & Country != \"Saudi Arabia\") |>\n",
    "    mutate(X2014 = as.numeric(gsub(\",\",\"\", X2014)),\n",
    "           X2015 = as.numeric(gsub(\",\",\"\", X2015)),\n",
    "           X2016 = as.numeric(gsub(\",\",\"\", X2016)),\n",
    "           X2022 = as.numeric(gsub(\",\",\"\", X2022)),\n",
    "           X2023 = as.numeric(gsub(\",\",\"\", X2023)),\n",
    "          ) |>\n",
    "    pivot_longer(cols = X2010:X2023,\n",
    "                 names_to = \"Year\",\n",
    "                 values_to = \"Metric\"\n",
    "                ) |>\n",
    "    group_by(Country, Year, Subject.Descriptor) |>\n",
    "    summarise(Metric = mean(Metric, na.rm = TRUE)) |>\n",
    "    pivot_wider(names_from = Subject.Descriptor,\n",
    "                values_from = Metric\n",
    "               )\n",
    "\n",
    "colnames(tidy_G20_economic_data) <- make.names(colnames(tidy_G20_economic_data), unique = TRUE)\n",
    "\n"
   ]
  },
  {
   "cell_type": "code",
   "execution_count": 6,
   "id": "79408577-09d3-4160-b009-ff08e6c67895",
   "metadata": {},
   "outputs": [],
   "source": [
    "set.seed(100)\n",
    "gdp_split <- initial_split(tidy_G20_economic_data, prop = 0.70, strata = Gross.domestic.product.per.capita..current.prices)\n",
    "gdp_training <- training(gdp_split)\n",
    "gdp_testing <- testing(gdp_split)\n"
   ]
  },
  {
   "cell_type": "code",
   "execution_count": 9,
   "id": "1eb3fcf5-d1b8-4757-9c4d-876fd94008c6",
   "metadata": {},
   "outputs": [
    {
     "data": {
      "text/plain": [
       "══ Workflow [trained] ══════════════════════════════════════════════════════════\n",
       "\u001b[3mPreprocessor:\u001b[23m Recipe\n",
       "\u001b[3mModel:\u001b[23m linear_reg()\n",
       "\n",
       "── Preprocessor ────────────────────────────────────────────────────────────────\n",
       "0 Recipe Steps\n",
       "\n",
       "── Model ───────────────────────────────────────────────────────────────────────\n",
       "\n",
       "Call:\n",
       "stats::lm(formula = ..y ~ ., data = data)\n",
       "\n",
       "Coefficients:\n",
       "                            (Intercept)  \n",
       "                                38632.1  \n",
       "     Inflation..average.consumer.prices  \n",
       "                                 -581.3  \n",
       "                      Unemployment.rate  \n",
       "                                 -836.3  \n",
       "Volume.of.exports.of.goods.and.services  \n",
       "                                 -284.9  \n",
       "Volume.of.imports.of.goods.and.services  \n",
       "                                  169.0  \n"
      ]
     },
     "metadata": {},
     "output_type": "display_data"
    }
   ],
   "source": [
    "\n",
    "lm_spec <- linear_reg() |>\n",
    "        set_engine(\"lm\") |>\n",
    "        set_mode(\"regression\")\n",
    "\n",
    "lm_recipe <- recipe(Gross.domestic.product.per.capita..current.prices ~ Inflation..average.consumer.prices + Unemployment.rate + Volume.of.exports.of.goods.and.services + Volume.of.imports.of.goods.and.services, data = gdp_training)\n",
    "\n",
    "lm_fit <- workflow() |>\n",
    "        add_recipe(lm_recipe) |>\n",
    "        add_model(lm_spec) |>\n",
    "        fit(data = gdp_training)\n",
    "\n",
    "lm_fit"
   ]
  },
  {
   "cell_type": "code",
   "execution_count": 12,
   "id": "48088b2a-acd9-4c3e-99b0-5532c7cd5d57",
   "metadata": {},
   "outputs": [
    {
     "data": {
      "text/html": [
       "19012.2052705668"
      ],
      "text/latex": [
       "19012.2052705668"
      ],
      "text/markdown": [
       "19012.2052705668"
      ],
      "text/plain": [
       "[1] 19012.21"
      ]
     },
     "metadata": {},
     "output_type": "display_data"
    }
   ],
   "source": [
    "lm_test_results <- lm_fit |>\n",
    "                predict(gdp_testing) |>\n",
    "                bind_cols(gdp_testing) |>\n",
    "                metrics(truth = Gross.domestic.product.per.capita..current.prices, estimate = .pred)\n",
    "\n",
    "lm_rmspe <- lm_test_results |>\n",
    "            filter(.metric == \"rmse\") |>\n",
    "            select(.estimate) |>\n",
    "            pull()\n",
    "lm_rmspe"
   ]
  },
  {
   "cell_type": "code",
   "execution_count": 35,
   "id": "81a36c3f-a8ff-49ea-bbf3-11350fddc760",
   "metadata": {
    "tags": []
   },
   "outputs": [
    {
     "data": {
      "text/html": [
       "<table class=\"dataframe\">\n",
       "<caption>A grouped_df: 10 × 7</caption>\n",
       "<thead>\n",
       "\t<tr><th scope=col>Country</th><th scope=col>Year</th><th scope=col>Gross.domestic.product.per.capita..current.prices</th><th scope=col>Inflation..average.consumer.prices</th><th scope=col>Unemployment.rate</th><th scope=col>Volume.of.exports.of.goods.and.services</th><th scope=col>Volume.of.imports.of.goods.and.services</th></tr>\n",
       "\t<tr><th scope=col>&lt;chr&gt;</th><th scope=col>&lt;chr&gt;</th><th scope=col>&lt;dbl&gt;</th><th scope=col>&lt;dbl&gt;</th><th scope=col>&lt;dbl&gt;</th><th scope=col>&lt;dbl&gt;</th><th scope=col>&lt;dbl&gt;</th></tr>\n",
       "</thead>\n",
       "<tbody>\n",
       "\t<tr><td>Australia</td><td>X2010</td><td>56579.03</td><td>2.863</td><td>5.208</td><td> 5.709</td><td>16.142</td></tr>\n",
       "\t<tr><td>Australia</td><td>X2011</td><td>67270.36</td><td>3.356</td><td>5.083</td><td>-0.144</td><td>10.557</td></tr>\n",
       "\t<tr><td>Australia</td><td>X2012</td><td>68450.31</td><td>1.686</td><td>5.233</td><td> 5.420</td><td> 6.183</td></tr>\n",
       "\t<tr><td>Australia</td><td>X2013</td><td>65200.37</td><td>2.450</td><td>5.658</td><td> 5.890</td><td>-2.284</td></tr>\n",
       "\t<tr><td>Australia</td><td>X2014</td><td>61615.05</td><td>2.513</td><td>6.058</td><td> 7.010</td><td>-1.410</td></tr>\n",
       "\t<tr><td>Australia</td><td>X2015</td><td>51412.25</td><td>1.485</td><td>6.050</td><td> 6.319</td><td> 2.265</td></tr>\n",
       "\t<tr><td>Australia</td><td>X2016</td><td>51813.64</td><td>1.277</td><td>5.708</td><td> 6.673</td><td> 0.131</td></tr>\n",
       "\t<tr><td>Australia</td><td>X2017</td><td>55797.38</td><td>1.995</td><td>5.583</td><td> 3.432</td><td> 7.775</td></tr>\n",
       "\t<tr><td>Australia</td><td>X2018</td><td>56341.94</td><td>1.933</td><td>5.292</td><td> 5.112</td><td> 4.275</td></tr>\n",
       "\t<tr><td>Australia</td><td>X2019</td><td>54266.75</td><td>1.588</td><td>5.192</td><td> 3.226</td><td>-1.033</td></tr>\n",
       "</tbody>\n",
       "</table>\n"
      ],
      "text/latex": [
       "A grouped\\_df: 10 × 7\n",
       "\\begin{tabular}{lllllll}\n",
       " Country & Year & Gross.domestic.product.per.capita..current.prices & Inflation..average.consumer.prices & Unemployment.rate & Volume.of.exports.of.goods.and.services & Volume.of.imports.of.goods.and.services\\\\\n",
       " <chr> & <chr> & <dbl> & <dbl> & <dbl> & <dbl> & <dbl>\\\\\n",
       "\\hline\n",
       "\t Australia & X2010 & 56579.03 & 2.863 & 5.208 &  5.709 & 16.142\\\\\n",
       "\t Australia & X2011 & 67270.36 & 3.356 & 5.083 & -0.144 & 10.557\\\\\n",
       "\t Australia & X2012 & 68450.31 & 1.686 & 5.233 &  5.420 &  6.183\\\\\n",
       "\t Australia & X2013 & 65200.37 & 2.450 & 5.658 &  5.890 & -2.284\\\\\n",
       "\t Australia & X2014 & 61615.05 & 2.513 & 6.058 &  7.010 & -1.410\\\\\n",
       "\t Australia & X2015 & 51412.25 & 1.485 & 6.050 &  6.319 &  2.265\\\\\n",
       "\t Australia & X2016 & 51813.64 & 1.277 & 5.708 &  6.673 &  0.131\\\\\n",
       "\t Australia & X2017 & 55797.38 & 1.995 & 5.583 &  3.432 &  7.775\\\\\n",
       "\t Australia & X2018 & 56341.94 & 1.933 & 5.292 &  5.112 &  4.275\\\\\n",
       "\t Australia & X2019 & 54266.75 & 1.588 & 5.192 &  3.226 & -1.033\\\\\n",
       "\\end{tabular}\n"
      ],
      "text/markdown": [
       "\n",
       "A grouped_df: 10 × 7\n",
       "\n",
       "| Country &lt;chr&gt; | Year &lt;chr&gt; | Gross.domestic.product.per.capita..current.prices &lt;dbl&gt; | Inflation..average.consumer.prices &lt;dbl&gt; | Unemployment.rate &lt;dbl&gt; | Volume.of.exports.of.goods.and.services &lt;dbl&gt; | Volume.of.imports.of.goods.and.services &lt;dbl&gt; |\n",
       "|---|---|---|---|---|---|---|\n",
       "| Australia | X2010 | 56579.03 | 2.863 | 5.208 |  5.709 | 16.142 |\n",
       "| Australia | X2011 | 67270.36 | 3.356 | 5.083 | -0.144 | 10.557 |\n",
       "| Australia | X2012 | 68450.31 | 1.686 | 5.233 |  5.420 |  6.183 |\n",
       "| Australia | X2013 | 65200.37 | 2.450 | 5.658 |  5.890 | -2.284 |\n",
       "| Australia | X2014 | 61615.05 | 2.513 | 6.058 |  7.010 | -1.410 |\n",
       "| Australia | X2015 | 51412.25 | 1.485 | 6.050 |  6.319 |  2.265 |\n",
       "| Australia | X2016 | 51813.64 | 1.277 | 5.708 |  6.673 |  0.131 |\n",
       "| Australia | X2017 | 55797.38 | 1.995 | 5.583 |  3.432 |  7.775 |\n",
       "| Australia | X2018 | 56341.94 | 1.933 | 5.292 |  5.112 |  4.275 |\n",
       "| Australia | X2019 | 54266.75 | 1.588 | 5.192 |  3.226 | -1.033 |\n",
       "\n"
      ],
      "text/plain": [
       "   Country   Year  Gross.domestic.product.per.capita..current.prices\n",
       "1  Australia X2010 56579.03                                         \n",
       "2  Australia X2011 67270.36                                         \n",
       "3  Australia X2012 68450.31                                         \n",
       "4  Australia X2013 65200.37                                         \n",
       "5  Australia X2014 61615.05                                         \n",
       "6  Australia X2015 51412.25                                         \n",
       "7  Australia X2016 51813.64                                         \n",
       "8  Australia X2017 55797.38                                         \n",
       "9  Australia X2018 56341.94                                         \n",
       "10 Australia X2019 54266.75                                         \n",
       "   Inflation..average.consumer.prices Unemployment.rate\n",
       "1  2.863                              5.208            \n",
       "2  3.356                              5.083            \n",
       "3  1.686                              5.233            \n",
       "4  2.450                              5.658            \n",
       "5  2.513                              6.058            \n",
       "6  1.485                              6.050            \n",
       "7  1.277                              5.708            \n",
       "8  1.995                              5.583            \n",
       "9  1.933                              5.292            \n",
       "10 1.588                              5.192            \n",
       "   Volume.of.exports.of.goods.and.services\n",
       "1   5.709                                 \n",
       "2  -0.144                                 \n",
       "3   5.420                                 \n",
       "4   5.890                                 \n",
       "5   7.010                                 \n",
       "6   6.319                                 \n",
       "7   6.673                                 \n",
       "8   3.432                                 \n",
       "9   5.112                                 \n",
       "10  3.226                                 \n",
       "   Volume.of.imports.of.goods.and.services\n",
       "1  16.142                                 \n",
       "2  10.557                                 \n",
       "3   6.183                                 \n",
       "4  -2.284                                 \n",
       "5  -1.410                                 \n",
       "6   2.265                                 \n",
       "7   0.131                                 \n",
       "8   7.775                                 \n",
       "9   4.275                                 \n",
       "10 -1.033                                 "
      ]
     },
     "metadata": {},
     "output_type": "display_data"
    }
   ],
   "source": [
    "australia <- filter(tidy_G20_economic_data, Country == \"Australia\" & Year <= \"X2019\")\n",
    "australia"
   ]
  },
  {
   "cell_type": "code",
   "execution_count": 36,
   "id": "12a0b412-5dd2-4795-95ab-27fe0aa0a7b1",
   "metadata": {},
   "outputs": [
    {
     "name": "stderr",
     "output_type": "stream",
     "text": [
      "Warning message:\n",
      "“The number of observations in each quantile is below the recommended threshold of 20.\n",
      "\u001b[36m•\u001b[39m Stratification will use 0 breaks instead.”\n",
      "Warning message:\n",
      "“Too little data to stratify.\n",
      "\u001b[36m•\u001b[39m Resampling will be unstratified.”\n"
     ]
    }
   ],
   "source": [
    "set.seed(100)\n",
    "aus_split <- initial_split(australia, prop = 0.70, strata = Gross.domestic.product.per.capita..current.prices)\n",
    "aus_training <- training(aus_split)\n",
    "aus_testing <- testing(aus_split)\n"
   ]
  },
  {
   "cell_type": "code",
   "execution_count": 37,
   "id": "1d6b73aa-bdb1-4c6f-9ec9-ce0719ceb3b7",
   "metadata": {},
   "outputs": [
    {
     "data": {
      "text/plain": [
       "══ Workflow [trained] ══════════════════════════════════════════════════════════\n",
       "\u001b[3mPreprocessor:\u001b[23m Recipe\n",
       "\u001b[3mModel:\u001b[23m linear_reg()\n",
       "\n",
       "── Preprocessor ────────────────────────────────────────────────────────────────\n",
       "0 Recipe Steps\n",
       "\n",
       "── Model ───────────────────────────────────────────────────────────────────────\n",
       "\n",
       "Call:\n",
       "stats::lm(formula = ..y ~ ., data = data)\n",
       "\n",
       "Coefficients:\n",
       "                            (Intercept)  \n",
       "                                93651.3  \n",
       "     Inflation..average.consumer.prices  \n",
       "                                 6173.1  \n",
       "                      Unemployment.rate  \n",
       "                                -8766.8  \n",
       "Volume.of.exports.of.goods.and.services  \n",
       "                                  458.2  \n",
       "Volume.of.imports.of.goods.and.services  \n",
       "                                 -401.7  \n"
      ]
     },
     "metadata": {},
     "output_type": "display_data"
    }
   ],
   "source": [
    "lm_aus <- linear_reg() |>\n",
    "        set_engine(\"lm\") |>\n",
    "        set_mode(\"regression\")\n",
    "\n",
    "lm_recipe_aus <- recipe(Gross.domestic.product.per.capita..current.prices ~ Inflation..average.consumer.prices + Unemployment.rate + Volume.of.exports.of.goods.and.services + Volume.of.imports.of.goods.and.services, data = aus_training)\n",
    "\n",
    "lm_fit_aus <- workflow() |>\n",
    "        add_recipe(lm_recipe) |>\n",
    "        add_model(lm_spec) |>\n",
    "        fit(data = aus_training)\n",
    "\n",
    "lm_fit_aus"
   ]
  },
  {
   "cell_type": "code",
   "execution_count": 38,
   "id": "62892a00-586f-47c5-be93-e38a88db91ce",
   "metadata": {},
   "outputs": [
    {
     "data": {
      "text/html": [
       "2448.36372253694"
      ],
      "text/latex": [
       "2448.36372253694"
      ],
      "text/markdown": [
       "2448.36372253694"
      ],
      "text/plain": [
       "[1] 2448.364"
      ]
     },
     "metadata": {},
     "output_type": "display_data"
    }
   ],
   "source": [
    "lm_test_results_aus <- lm_fit_aus |>\n",
    "                predict(aus_testing) |>\n",
    "                bind_cols(aus_testing) |>\n",
    "                metrics(truth = Gross.domestic.product.per.capita..current.prices, estimate = .pred)\n",
    "\n",
    "lm_rmspe_aus <- lm_test_results_aus |>\n",
    "            filter(.metric == \"rmse\") |>\n",
    "            select(.estimate) |>\n",
    "            pull()\n",
    "lm_rmspe_aus"
   ]
  },
  {
   "cell_type": "code",
   "execution_count": 39,
   "id": "7d07b6ed-e33f-4345-b0f2-f4f684eed7e1",
   "metadata": {},
   "outputs": [
    {
     "data": {
      "text/html": [
       "<table class=\"dataframe\">\n",
       "<caption>A grouped_df: 10 × 7</caption>\n",
       "<thead>\n",
       "\t<tr><th scope=col>Country</th><th scope=col>Year</th><th scope=col>Gross.domestic.product.per.capita..current.prices</th><th scope=col>Inflation..average.consumer.prices</th><th scope=col>Unemployment.rate</th><th scope=col>Volume.of.exports.of.goods.and.services</th><th scope=col>Volume.of.imports.of.goods.and.services</th></tr>\n",
       "\t<tr><th scope=col>&lt;chr&gt;</th><th scope=col>&lt;chr&gt;</th><th scope=col>&lt;dbl&gt;</th><th scope=col>&lt;dbl&gt;</th><th scope=col>&lt;dbl&gt;</th><th scope=col>&lt;dbl&gt;</th><th scope=col>&lt;dbl&gt;</th></tr>\n",
       "</thead>\n",
       "<tbody>\n",
       "\t<tr><td>Canada</td><td>X2010</td><td>47627.35</td><td>1.777</td><td>8.142</td><td>6.678</td><td>13.788</td></tr>\n",
       "\t<tr><td>Canada</td><td>X2011</td><td>52285.94</td><td>2.912</td><td>7.617</td><td>4.828</td><td> 5.594</td></tr>\n",
       "\t<tr><td>Canada</td><td>X2012</td><td>52744.00</td><td>1.516</td><td>7.408</td><td>2.815</td><td> 3.709</td></tr>\n",
       "\t<tr><td>Canada</td><td>X2013</td><td>52708.61</td><td>0.938</td><td>7.175</td><td>2.461</td><td> 2.077</td></tr>\n",
       "\t<tr><td>Canada</td><td>X2014</td><td>51020.84</td><td>1.907</td><td>7.033</td><td>6.323</td><td> 2.531</td></tr>\n",
       "\t<tr><td>Canada</td><td>X2015</td><td>43626.47</td><td>1.125</td><td>6.950</td><td>3.419</td><td> 0.751</td></tr>\n",
       "\t<tr><td>Canada</td><td>X2016</td><td>42382.64</td><td>1.429</td><td>7.033</td><td>1.407</td><td> 0.051</td></tr>\n",
       "\t<tr><td>Canada</td><td>X2017</td><td>45191.99</td><td>1.597</td><td>6.408</td><td>1.445</td><td> 4.627</td></tr>\n",
       "\t<tr><td>Canada</td><td>X2018</td><td>46625.86</td><td>2.268</td><td>5.850</td><td>3.825</td><td> 3.309</td></tr>\n",
       "\t<tr><td>Canada</td><td>X2019</td><td>46449.96</td><td>1.949</td><td>5.700</td><td>2.704</td><td> 0.353</td></tr>\n",
       "</tbody>\n",
       "</table>\n"
      ],
      "text/latex": [
       "A grouped\\_df: 10 × 7\n",
       "\\begin{tabular}{lllllll}\n",
       " Country & Year & Gross.domestic.product.per.capita..current.prices & Inflation..average.consumer.prices & Unemployment.rate & Volume.of.exports.of.goods.and.services & Volume.of.imports.of.goods.and.services\\\\\n",
       " <chr> & <chr> & <dbl> & <dbl> & <dbl> & <dbl> & <dbl>\\\\\n",
       "\\hline\n",
       "\t Canada & X2010 & 47627.35 & 1.777 & 8.142 & 6.678 & 13.788\\\\\n",
       "\t Canada & X2011 & 52285.94 & 2.912 & 7.617 & 4.828 &  5.594\\\\\n",
       "\t Canada & X2012 & 52744.00 & 1.516 & 7.408 & 2.815 &  3.709\\\\\n",
       "\t Canada & X2013 & 52708.61 & 0.938 & 7.175 & 2.461 &  2.077\\\\\n",
       "\t Canada & X2014 & 51020.84 & 1.907 & 7.033 & 6.323 &  2.531\\\\\n",
       "\t Canada & X2015 & 43626.47 & 1.125 & 6.950 & 3.419 &  0.751\\\\\n",
       "\t Canada & X2016 & 42382.64 & 1.429 & 7.033 & 1.407 &  0.051\\\\\n",
       "\t Canada & X2017 & 45191.99 & 1.597 & 6.408 & 1.445 &  4.627\\\\\n",
       "\t Canada & X2018 & 46625.86 & 2.268 & 5.850 & 3.825 &  3.309\\\\\n",
       "\t Canada & X2019 & 46449.96 & 1.949 & 5.700 & 2.704 &  0.353\\\\\n",
       "\\end{tabular}\n"
      ],
      "text/markdown": [
       "\n",
       "A grouped_df: 10 × 7\n",
       "\n",
       "| Country &lt;chr&gt; | Year &lt;chr&gt; | Gross.domestic.product.per.capita..current.prices &lt;dbl&gt; | Inflation..average.consumer.prices &lt;dbl&gt; | Unemployment.rate &lt;dbl&gt; | Volume.of.exports.of.goods.and.services &lt;dbl&gt; | Volume.of.imports.of.goods.and.services &lt;dbl&gt; |\n",
       "|---|---|---|---|---|---|---|\n",
       "| Canada | X2010 | 47627.35 | 1.777 | 8.142 | 6.678 | 13.788 |\n",
       "| Canada | X2011 | 52285.94 | 2.912 | 7.617 | 4.828 |  5.594 |\n",
       "| Canada | X2012 | 52744.00 | 1.516 | 7.408 | 2.815 |  3.709 |\n",
       "| Canada | X2013 | 52708.61 | 0.938 | 7.175 | 2.461 |  2.077 |\n",
       "| Canada | X2014 | 51020.84 | 1.907 | 7.033 | 6.323 |  2.531 |\n",
       "| Canada | X2015 | 43626.47 | 1.125 | 6.950 | 3.419 |  0.751 |\n",
       "| Canada | X2016 | 42382.64 | 1.429 | 7.033 | 1.407 |  0.051 |\n",
       "| Canada | X2017 | 45191.99 | 1.597 | 6.408 | 1.445 |  4.627 |\n",
       "| Canada | X2018 | 46625.86 | 2.268 | 5.850 | 3.825 |  3.309 |\n",
       "| Canada | X2019 | 46449.96 | 1.949 | 5.700 | 2.704 |  0.353 |\n",
       "\n"
      ],
      "text/plain": [
       "   Country Year  Gross.domestic.product.per.capita..current.prices\n",
       "1  Canada  X2010 47627.35                                         \n",
       "2  Canada  X2011 52285.94                                         \n",
       "3  Canada  X2012 52744.00                                         \n",
       "4  Canada  X2013 52708.61                                         \n",
       "5  Canada  X2014 51020.84                                         \n",
       "6  Canada  X2015 43626.47                                         \n",
       "7  Canada  X2016 42382.64                                         \n",
       "8  Canada  X2017 45191.99                                         \n",
       "9  Canada  X2018 46625.86                                         \n",
       "10 Canada  X2019 46449.96                                         \n",
       "   Inflation..average.consumer.prices Unemployment.rate\n",
       "1  1.777                              8.142            \n",
       "2  2.912                              7.617            \n",
       "3  1.516                              7.408            \n",
       "4  0.938                              7.175            \n",
       "5  1.907                              7.033            \n",
       "6  1.125                              6.950            \n",
       "7  1.429                              7.033            \n",
       "8  1.597                              6.408            \n",
       "9  2.268                              5.850            \n",
       "10 1.949                              5.700            \n",
       "   Volume.of.exports.of.goods.and.services\n",
       "1  6.678                                  \n",
       "2  4.828                                  \n",
       "3  2.815                                  \n",
       "4  2.461                                  \n",
       "5  6.323                                  \n",
       "6  3.419                                  \n",
       "7  1.407                                  \n",
       "8  1.445                                  \n",
       "9  3.825                                  \n",
       "10 2.704                                  \n",
       "   Volume.of.imports.of.goods.and.services\n",
       "1  13.788                                 \n",
       "2   5.594                                 \n",
       "3   3.709                                 \n",
       "4   2.077                                 \n",
       "5   2.531                                 \n",
       "6   0.751                                 \n",
       "7   0.051                                 \n",
       "8   4.627                                 \n",
       "9   3.309                                 \n",
       "10  0.353                                 "
      ]
     },
     "metadata": {},
     "output_type": "display_data"
    }
   ],
   "source": [
    "canada <- filter(tidy_G20_economic_data, Country == \"Canada\" & Year <= \"X2019\") \n",
    "canada"
   ]
  },
  {
   "cell_type": "code",
   "execution_count": 40,
   "id": "5967742b-cb1b-459c-9322-335ec3783e70",
   "metadata": {},
   "outputs": [
    {
     "name": "stderr",
     "output_type": "stream",
     "text": [
      "Warning message:\n",
      "“The number of observations in each quantile is below the recommended threshold of 20.\n",
      "\u001b[36m•\u001b[39m Stratification will use 0 breaks instead.”\n",
      "Warning message:\n",
      "“Too little data to stratify.\n",
      "\u001b[36m•\u001b[39m Resampling will be unstratified.”\n"
     ]
    }
   ],
   "source": [
    "set.seed(100)\n",
    "can_split <- initial_split(canada, prop = 0.70, strata = Gross.domestic.product.per.capita..current.prices)\n",
    "can_training <- training(can_split)\n",
    "can_testing <- testing(can_split)"
   ]
  },
  {
   "cell_type": "code",
   "execution_count": 41,
   "id": "89850aeb-2eb8-4d61-b3b9-1d88b2c10e47",
   "metadata": {},
   "outputs": [
    {
     "data": {
      "text/plain": [
       "══ Workflow [trained] ══════════════════════════════════════════════════════════\n",
       "\u001b[3mPreprocessor:\u001b[23m Recipe\n",
       "\u001b[3mModel:\u001b[23m linear_reg()\n",
       "\n",
       "── Preprocessor ────────────────────────────────────────────────────────────────\n",
       "0 Recipe Steps\n",
       "\n",
       "── Model ───────────────────────────────────────────────────────────────────────\n",
       "\n",
       "Call:\n",
       "stats::lm(formula = ..y ~ ., data = data)\n",
       "\n",
       "Coefficients:\n",
       "                            (Intercept)  \n",
       "                                27479.5  \n",
       "     Inflation..average.consumer.prices  \n",
       "                                 3778.4  \n",
       "                      Unemployment.rate  \n",
       "                                 1694.6  \n",
       "Volume.of.exports.of.goods.and.services  \n",
       "                                  634.2  \n",
       "Volume.of.imports.of.goods.and.services  \n",
       "                                 -234.6  \n"
      ]
     },
     "metadata": {},
     "output_type": "display_data"
    }
   ],
   "source": [
    "lm_can <- linear_reg() |>\n",
    "        set_engine(\"lm\") |>\n",
    "        set_mode(\"regression\")\n",
    "\n",
    "lm_recipe_can <- recipe(Gross.domestic.product.per.capita..current.prices ~ Inflation..average.consumer.prices + Unemployment.rate + Volume.of.exports.of.goods.and.services + Volume.of.imports.of.goods.and.services, data = can_training)\n",
    "\n",
    "lm_fit_can <- workflow() |>\n",
    "        add_recipe(lm_recipe) |>\n",
    "        add_model(lm_spec) |>\n",
    "        fit(data = can_training)\n",
    "\n",
    "lm_fit_can"
   ]
  },
  {
   "cell_type": "code",
   "execution_count": 42,
   "id": "3b167492-b02e-432a-9e5e-c0a231f82b2e",
   "metadata": {},
   "outputs": [
    {
     "data": {
      "text/html": [
       "4946.42306369914"
      ],
      "text/latex": [
       "4946.42306369914"
      ],
      "text/markdown": [
       "4946.42306369914"
      ],
      "text/plain": [
       "[1] 4946.423"
      ]
     },
     "metadata": {},
     "output_type": "display_data"
    }
   ],
   "source": [
    "lm_test_results_can <- lm_fit_can |>\n",
    "                predict(can_testing) |>\n",
    "                bind_cols(can_testing) |>\n",
    "                metrics(truth = Gross.domestic.product.per.capita..current.prices, estimate = .pred)\n",
    "\n",
    "lm_rmspe_can <- lm_test_results_can |>\n",
    "            filter(.metric == \"rmse\") |>\n",
    "            select(.estimate) |>\n",
    "            pull()\n",
    "lm_rmspe_can"
   ]
  },
  {
   "cell_type": "code",
   "execution_count": 44,
   "id": "181a66ad-d565-413c-9016-8ea6afaa3896",
   "metadata": {},
   "outputs": [
    {
     "data": {
      "text/html": [
       "<table class=\"dataframe\">\n",
       "<caption>A grouped_df: 10 × 7</caption>\n",
       "<thead>\n",
       "\t<tr><th scope=col>Country</th><th scope=col>Year</th><th scope=col>Gross.domestic.product.per.capita..current.prices</th><th scope=col>Inflation..average.consumer.prices</th><th scope=col>Unemployment.rate</th><th scope=col>Volume.of.exports.of.goods.and.services</th><th scope=col>Volume.of.imports.of.goods.and.services</th></tr>\n",
       "\t<tr><th scope=col>&lt;chr&gt;</th><th scope=col>&lt;chr&gt;</th><th scope=col>&lt;dbl&gt;</th><th scope=col>&lt;dbl&gt;</th><th scope=col>&lt;dbl&gt;</th><th scope=col>&lt;dbl&gt;</th><th scope=col>&lt;dbl&gt;</th></tr>\n",
       "</thead>\n",
       "<tbody>\n",
       "\t<tr><td>China</td><td>X2010</td><td> 4499.80</td><td>3.176</td><td>4.14</td><td>28.461</td><td>23.094</td></tr>\n",
       "\t<tr><td>China</td><td>X2011</td><td> 5553.24</td><td>5.534</td><td>4.09</td><td>10.964</td><td>13.422</td></tr>\n",
       "\t<tr><td>China</td><td>X2012</td><td> 6282.71</td><td>2.609</td><td>4.09</td><td> 5.882</td><td> 6.591</td></tr>\n",
       "\t<tr><td>China</td><td>X2013</td><td> 7039.57</td><td>2.568</td><td>4.05</td><td> 8.760</td><td>10.647</td></tr>\n",
       "\t<tr><td>China</td><td>X2014</td><td> 7645.88</td><td>2.051</td><td>4.09</td><td> 4.295</td><td> 7.774</td></tr>\n",
       "\t<tr><td>China</td><td>X2015</td><td> 8034.29</td><td>1.542</td><td>4.05</td><td>-2.156</td><td>-0.438</td></tr>\n",
       "\t<tr><td>China</td><td>X2016</td><td> 8063.45</td><td>2.121</td><td>4.02</td><td> 0.679</td><td> 4.387</td></tr>\n",
       "\t<tr><td>China</td><td>X2017</td><td> 8760.26</td><td>1.521</td><td>3.90</td><td> 7.950</td><td> 7.291</td></tr>\n",
       "\t<tr><td>China</td><td>X2018</td><td> 9848.95</td><td>1.928</td><td>3.80</td><td> 3.991</td><td> 7.263</td></tr>\n",
       "\t<tr><td>China</td><td>X2019</td><td>10170.06</td><td>2.902</td><td>3.62</td><td> 0.445</td><td>-3.662</td></tr>\n",
       "</tbody>\n",
       "</table>\n"
      ],
      "text/latex": [
       "A grouped\\_df: 10 × 7\n",
       "\\begin{tabular}{lllllll}\n",
       " Country & Year & Gross.domestic.product.per.capita..current.prices & Inflation..average.consumer.prices & Unemployment.rate & Volume.of.exports.of.goods.and.services & Volume.of.imports.of.goods.and.services\\\\\n",
       " <chr> & <chr> & <dbl> & <dbl> & <dbl> & <dbl> & <dbl>\\\\\n",
       "\\hline\n",
       "\t China & X2010 &  4499.80 & 3.176 & 4.14 & 28.461 & 23.094\\\\\n",
       "\t China & X2011 &  5553.24 & 5.534 & 4.09 & 10.964 & 13.422\\\\\n",
       "\t China & X2012 &  6282.71 & 2.609 & 4.09 &  5.882 &  6.591\\\\\n",
       "\t China & X2013 &  7039.57 & 2.568 & 4.05 &  8.760 & 10.647\\\\\n",
       "\t China & X2014 &  7645.88 & 2.051 & 4.09 &  4.295 &  7.774\\\\\n",
       "\t China & X2015 &  8034.29 & 1.542 & 4.05 & -2.156 & -0.438\\\\\n",
       "\t China & X2016 &  8063.45 & 2.121 & 4.02 &  0.679 &  4.387\\\\\n",
       "\t China & X2017 &  8760.26 & 1.521 & 3.90 &  7.950 &  7.291\\\\\n",
       "\t China & X2018 &  9848.95 & 1.928 & 3.80 &  3.991 &  7.263\\\\\n",
       "\t China & X2019 & 10170.06 & 2.902 & 3.62 &  0.445 & -3.662\\\\\n",
       "\\end{tabular}\n"
      ],
      "text/markdown": [
       "\n",
       "A grouped_df: 10 × 7\n",
       "\n",
       "| Country &lt;chr&gt; | Year &lt;chr&gt; | Gross.domestic.product.per.capita..current.prices &lt;dbl&gt; | Inflation..average.consumer.prices &lt;dbl&gt; | Unemployment.rate &lt;dbl&gt; | Volume.of.exports.of.goods.and.services &lt;dbl&gt; | Volume.of.imports.of.goods.and.services &lt;dbl&gt; |\n",
       "|---|---|---|---|---|---|---|\n",
       "| China | X2010 |  4499.80 | 3.176 | 4.14 | 28.461 | 23.094 |\n",
       "| China | X2011 |  5553.24 | 5.534 | 4.09 | 10.964 | 13.422 |\n",
       "| China | X2012 |  6282.71 | 2.609 | 4.09 |  5.882 |  6.591 |\n",
       "| China | X2013 |  7039.57 | 2.568 | 4.05 |  8.760 | 10.647 |\n",
       "| China | X2014 |  7645.88 | 2.051 | 4.09 |  4.295 |  7.774 |\n",
       "| China | X2015 |  8034.29 | 1.542 | 4.05 | -2.156 | -0.438 |\n",
       "| China | X2016 |  8063.45 | 2.121 | 4.02 |  0.679 |  4.387 |\n",
       "| China | X2017 |  8760.26 | 1.521 | 3.90 |  7.950 |  7.291 |\n",
       "| China | X2018 |  9848.95 | 1.928 | 3.80 |  3.991 |  7.263 |\n",
       "| China | X2019 | 10170.06 | 2.902 | 3.62 |  0.445 | -3.662 |\n",
       "\n"
      ],
      "text/plain": [
       "   Country Year  Gross.domestic.product.per.capita..current.prices\n",
       "1  China   X2010  4499.80                                         \n",
       "2  China   X2011  5553.24                                         \n",
       "3  China   X2012  6282.71                                         \n",
       "4  China   X2013  7039.57                                         \n",
       "5  China   X2014  7645.88                                         \n",
       "6  China   X2015  8034.29                                         \n",
       "7  China   X2016  8063.45                                         \n",
       "8  China   X2017  8760.26                                         \n",
       "9  China   X2018  9848.95                                         \n",
       "10 China   X2019 10170.06                                         \n",
       "   Inflation..average.consumer.prices Unemployment.rate\n",
       "1  3.176                              4.14             \n",
       "2  5.534                              4.09             \n",
       "3  2.609                              4.09             \n",
       "4  2.568                              4.05             \n",
       "5  2.051                              4.09             \n",
       "6  1.542                              4.05             \n",
       "7  2.121                              4.02             \n",
       "8  1.521                              3.90             \n",
       "9  1.928                              3.80             \n",
       "10 2.902                              3.62             \n",
       "   Volume.of.exports.of.goods.and.services\n",
       "1  28.461                                 \n",
       "2  10.964                                 \n",
       "3   5.882                                 \n",
       "4   8.760                                 \n",
       "5   4.295                                 \n",
       "6  -2.156                                 \n",
       "7   0.679                                 \n",
       "8   7.950                                 \n",
       "9   3.991                                 \n",
       "10  0.445                                 \n",
       "   Volume.of.imports.of.goods.and.services\n",
       "1  23.094                                 \n",
       "2  13.422                                 \n",
       "3   6.591                                 \n",
       "4  10.647                                 \n",
       "5   7.774                                 \n",
       "6  -0.438                                 \n",
       "7   4.387                                 \n",
       "8   7.291                                 \n",
       "9   7.263                                 \n",
       "10 -3.662                                 "
      ]
     },
     "metadata": {},
     "output_type": "display_data"
    }
   ],
   "source": [
    "china <- filter(tidy_G20_economic_data, Country == \"China\" & Year <= \"X2019\")\n",
    "china"
   ]
  },
  {
   "cell_type": "code",
   "execution_count": 45,
   "id": "3ed136b5-ecb8-496f-b8db-fbd309ad9590",
   "metadata": {},
   "outputs": [
    {
     "name": "stderr",
     "output_type": "stream",
     "text": [
      "Warning message:\n",
      "“The number of observations in each quantile is below the recommended threshold of 20.\n",
      "\u001b[36m•\u001b[39m Stratification will use 0 breaks instead.”\n",
      "Warning message:\n",
      "“Too little data to stratify.\n",
      "\u001b[36m•\u001b[39m Resampling will be unstratified.”\n"
     ]
    }
   ],
   "source": [
    "set.seed(100)\n",
    "china_split <- initial_split(china, prop = 0.70, strata = Gross.domestic.product.per.capita..current.prices)\n",
    "china_training <- training(china_split)\n",
    "china_testing <- testing(china_split)"
   ]
  },
  {
   "cell_type": "code",
   "execution_count": 46,
   "id": "25acbd31-b810-4aa2-b070-8ecc63ebf5c3",
   "metadata": {},
   "outputs": [
    {
     "data": {
      "text/plain": [
       "══ Workflow [trained] ══════════════════════════════════════════════════════════\n",
       "\u001b[3mPreprocessor:\u001b[23m Recipe\n",
       "\u001b[3mModel:\u001b[23m linear_reg()\n",
       "\n",
       "── Preprocessor ────────────────────────────────────────────────────────────────\n",
       "0 Recipe Steps\n",
       "\n",
       "── Model ───────────────────────────────────────────────────────────────────────\n",
       "\n",
       "Call:\n",
       "stats::lm(formula = ..y ~ ., data = data)\n",
       "\n",
       "Coefficients:\n",
       "                            (Intercept)  \n",
       "                                48737.7  \n",
       "     Inflation..average.consumer.prices  \n",
       "                                 -512.0  \n",
       "                      Unemployment.rate  \n",
       "                               -10003.7  \n",
       "Volume.of.exports.of.goods.and.services  \n",
       "                                 -216.4  \n",
       "Volume.of.imports.of.goods.and.services  \n",
       "                                  213.2  \n"
      ]
     },
     "metadata": {},
     "output_type": "display_data"
    }
   ],
   "source": [
    "lm_china <- linear_reg() |>\n",
    "        set_engine(\"lm\") |>\n",
    "        set_mode(\"regression\")\n",
    "\n",
    "lm_recipe_china <- recipe(Gross.domestic.product.per.capita..current.prices ~ Inflation..average.consumer.prices + Unemployment.rate + Volume.of.exports.of.goods.and.services + Volume.of.imports.of.goods.and.services, data = china_training)\n",
    "\n",
    "lm_fit_china <- workflow() |>\n",
    "        add_recipe(lm_recipe) |>\n",
    "        add_model(lm_spec) |>\n",
    "        fit(data = china_training)\n",
    "\n",
    "lm_fit_china"
   ]
  },
  {
   "cell_type": "code",
   "execution_count": 47,
   "id": "e51eb06f-76b8-4d73-bc00-2a7a8a83983f",
   "metadata": {},
   "outputs": [
    {
     "data": {
      "text/html": [
       "65415.8994646396"
      ],
      "text/latex": [
       "65415.8994646396"
      ],
      "text/markdown": [
       "65415.8994646396"
      ],
      "text/plain": [
       "[1] 65415.9"
      ]
     },
     "metadata": {},
     "output_type": "display_data"
    }
   ],
   "source": [
    "lm_test_results_china <- lm_fit_china |>\n",
    "                predict(can_testing) |>\n",
    "                bind_cols(can_testing) |>\n",
    "                metrics(truth = Gross.domestic.product.per.capita..current.prices, estimate = .pred)\n",
    "\n",
    "lm_rmspe_china <- lm_test_results_china |>\n",
    "            filter(.metric == \"rmse\") |>\n",
    "            select(.estimate) |>\n",
    "            pull()\n",
    "lm_rmspe_china"
   ]
  },
  {
   "cell_type": "code",
   "execution_count": null,
   "id": "a2ff0e73-e709-4890-939b-94dba7fc56ac",
   "metadata": {},
   "outputs": [],
   "source": []
  }
 ],
 "metadata": {
  "kernelspec": {
   "display_name": "R",
   "language": "R",
   "name": "ir"
  },
  "language_info": {
   "codemirror_mode": "r",
   "file_extension": ".r",
   "mimetype": "text/x-r-source",
   "name": "R",
   "pygments_lexer": "r",
   "version": "4.1.3"
  }
 },
 "nbformat": 4,
 "nbformat_minor": 5
}
