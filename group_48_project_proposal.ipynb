{
 "cells": [
  {
   "cell_type": "code",
   "execution_count": 1,
   "id": "83bd6b4d-9afb-4227-babc-29ed0bfec465",
   "metadata": {},
   "outputs": [
    {
     "name": "stderr",
     "output_type": "stream",
     "text": [
      "── \u001b[1mAttaching packages\u001b[22m ─────────────────────────────────────── tidyverse 1.3.1 ──\n",
      "\n",
      "\u001b[32m✔\u001b[39m \u001b[34mggplot2\u001b[39m 3.3.6     \u001b[32m✔\u001b[39m \u001b[34mpurrr  \u001b[39m 0.3.4\n",
      "\u001b[32m✔\u001b[39m \u001b[34mtibble \u001b[39m 3.1.7     \u001b[32m✔\u001b[39m \u001b[34mdplyr  \u001b[39m 1.0.9\n",
      "\u001b[32m✔\u001b[39m \u001b[34mtidyr  \u001b[39m 1.2.0     \u001b[32m✔\u001b[39m \u001b[34mstringr\u001b[39m 1.4.0\n",
      "\u001b[32m✔\u001b[39m \u001b[34mreadr  \u001b[39m 2.1.2     \u001b[32m✔\u001b[39m \u001b[34mforcats\u001b[39m 0.5.1\n",
      "\n",
      "── \u001b[1mConflicts\u001b[22m ────────────────────────────────────────── tidyverse_conflicts() ──\n",
      "\u001b[31m✖\u001b[39m \u001b[34mdplyr\u001b[39m::\u001b[32mfilter()\u001b[39m masks \u001b[34mstats\u001b[39m::filter()\n",
      "\u001b[31m✖\u001b[39m \u001b[34mdplyr\u001b[39m::\u001b[32mlag()\u001b[39m    masks \u001b[34mstats\u001b[39m::lag()\n",
      "\n"
     ]
    }
   ],
   "source": [
    "library(tidyverse)\n",
    "library(repr)\n",
    "library(dplyr)"
   ]
  },
  {
   "cell_type": "code",
   "execution_count": 14,
   "id": "6100a71d-6e50-4f45-ab81-9f36d069697f",
   "metadata": {},
   "outputs": [
    {
     "name": "stderr",
     "output_type": "stream",
     "text": [
      "\u001b[1mRows: \u001b[22m\u001b[34m836\u001b[39m \u001b[1mColumns: \u001b[22m\u001b[34m59\u001b[39m\n",
      "\u001b[36m──\u001b[39m \u001b[1mColumn specification\u001b[22m \u001b[36m────────────────────────────────────────────────────────\u001b[39m\n",
      "\u001b[1mDelimiter:\u001b[22m \",\"\n",
      "\u001b[31mchr\u001b[39m (46): ISO, WEO Subject Code, Country, Subject Descriptor, Subject Notes,...\n",
      "\u001b[32mdbl\u001b[39m  (2): WEO Country Code, Estimates Start After\n",
      "\n",
      "\u001b[36mℹ\u001b[39m Use `spec()` to retrieve the full column specification for this data.\n",
      "\u001b[36mℹ\u001b[39m Specify the column types or set `show_col_types = FALSE` to quiet this message.\n"
     ]
    },
    {
     "data": {
      "text/html": [
       "<table class=\"dataframe\">\n",
       "<caption>A tibble: 3 × 59</caption>\n",
       "<thead>\n",
       "\t<tr><th scope=col>WEO.Country.Code</th><th scope=col>ISO</th><th scope=col>WEO.Subject.Code</th><th scope=col>Country</th><th scope=col>Subject.Descriptor</th><th scope=col>Subject.Notes</th><th scope=col>Units</th><th scope=col>Scale</th><th scope=col>Country.Series.specific.Notes</th><th scope=col>X1980</th><th scope=col>⋯</th><th scope=col>X2020</th><th scope=col>X2021</th><th scope=col>X2022</th><th scope=col>X2023</th><th scope=col>X2024</th><th scope=col>X2025</th><th scope=col>X2026</th><th scope=col>X2027</th><th scope=col>X2028</th><th scope=col>Estimates.Start.After</th></tr>\n",
       "\t<tr><th scope=col>&lt;dbl&gt;</th><th scope=col>&lt;chr&gt;</th><th scope=col>&lt;chr&gt;</th><th scope=col>&lt;chr&gt;</th><th scope=col>&lt;chr&gt;</th><th scope=col>&lt;chr&gt;</th><th scope=col>&lt;chr&gt;</th><th scope=col>&lt;chr&gt;</th><th scope=col>&lt;chr&gt;</th><th scope=col>&lt;chr&gt;</th><th scope=col>⋯</th><th scope=col>&lt;dbl&gt;</th><th scope=col>&lt;dbl&gt;</th><th scope=col>&lt;chr&gt;</th><th scope=col>&lt;chr&gt;</th><th scope=col>&lt;chr&gt;</th><th scope=col>&lt;chr&gt;</th><th scope=col>&lt;chr&gt;</th><th scope=col>&lt;chr&gt;</th><th scope=col>&lt;chr&gt;</th><th scope=col>&lt;dbl&gt;</th></tr>\n",
       "</thead>\n",
       "<tbody>\n",
       "\t<tr><td>213</td><td>ARG</td><td>NGDP_R   </td><td>Argentina</td><td>Gross domestic product, constant prices</td><td>Expressed in billions of national currency units; the base year is country-specific. Expenditure-based GDP is total final expenditures at purchasers' prices (including the f.o.b. value of exports of goods and services), less the f.o.b. value of imports of goods and services. [SNA 1993]                 </td><td>National currency</td><td>Billions</td><td>Source: National Statistics Office Latest actual data: 2021 National accounts manual used: System of National Accounts (SNA) 2008 GDP valuation: Market prices Reporting in calendar year: Yes Start/end months of reporting year: January/December Base year: 2004 Chain-weighted: No Primary domestic currency: Argentine peso Data last updated: 03/2023</td><td>357.389</td><td>⋯</td><td>  624.295</td><td>  689.211</td><td>725.346  </td><td>726.797   </td><td>741.333   </td><td>756.161   </td><td>771.287   </td><td>786.714   </td><td>802.448     </td><td>2021</td></tr>\n",
       "\t<tr><td>213</td><td>ARG</td><td>NGDP_RPCH</td><td>Argentina</td><td>Gross domestic product, constant prices</td><td>Annual percentages of constant price GDP are year-on-year changes; the base year is country-specific. Expenditure-based GDP is total final expenditures at purchasers' prices (including the f.o.b. value of exports of goods and services), less the f.o.b. value of imports of goods and services. [SNA 1993]</td><td>Percent change   </td><td>NA      </td><td>See notes for:  Gross domestic product, constant prices (National currency).                                                                                                                                                                                                                                                                               </td><td>0.7    </td><td>⋯</td><td>   -9.943</td><td>   10.398</td><td>5.243    </td><td>0.2       </td><td>2         </td><td>2         </td><td>2         </td><td>2         </td><td>2           </td><td>2021</td></tr>\n",
       "\t<tr><td>213</td><td>ARG</td><td>NGDP     </td><td>Argentina</td><td>Gross domestic product, current prices </td><td>Expressed in billions of national currency units. Expenditure-based GDP is total final expenditures at purchasers' prices (including the f.o.b. value of exports of goods and services), less the f.o.b. value of imports of goods and services. [SNA 1993]                                                    </td><td>National currency</td><td>Billions</td><td>Source: National Statistics Office Latest actual data: 2021 National accounts manual used: System of National Accounts (SNA) 2008 GDP valuation: Market prices Reporting in calendar year: Yes Start/end months of reporting year: January/December Base year: 2004 Chain-weighted: No Primary domestic currency: Argentine peso Data last updated: 03/2023</td><td>--     </td><td>⋯</td><td>27481.440</td><td>46282.070</td><td>82,650.24</td><td>164,655.09</td><td>268,792.37</td><td>403,024.96</td><td>584,085.98</td><td>817,219.74</td><td>1,104,151.70</td><td>2021</td></tr>\n",
       "</tbody>\n",
       "</table>\n"
      ],
      "text/latex": [
       "A tibble: 3 × 59\n",
       "\\begin{tabular}{lllllllllllllllllllll}\n",
       " WEO.Country.Code & ISO & WEO.Subject.Code & Country & Subject.Descriptor & Subject.Notes & Units & Scale & Country.Series.specific.Notes & X1980 & ⋯ & X2020 & X2021 & X2022 & X2023 & X2024 & X2025 & X2026 & X2027 & X2028 & Estimates.Start.After\\\\\n",
       " <dbl> & <chr> & <chr> & <chr> & <chr> & <chr> & <chr> & <chr> & <chr> & <chr> & ⋯ & <dbl> & <dbl> & <chr> & <chr> & <chr> & <chr> & <chr> & <chr> & <chr> & <dbl>\\\\\n",
       "\\hline\n",
       "\t 213 & ARG & NGDP\\_R    & Argentina & Gross domestic product, constant prices & Expressed in billions of national currency units; the base year is country-specific. Expenditure-based GDP is total final expenditures at purchasers' prices (including the f.o.b. value of exports of goods and services), less the f.o.b. value of imports of goods and services. {[}SNA 1993{]}                  & National currency & Billions & Source: National Statistics Office Latest actual data: 2021 National accounts manual used: System of National Accounts (SNA) 2008 GDP valuation: Market prices Reporting in calendar year: Yes Start/end months of reporting year: January/December Base year: 2004 Chain-weighted: No Primary domestic currency: Argentine peso Data last updated: 03/2023 & 357.389 & ⋯ &   624.295 &   689.211 & 725.346   & 726.797    & 741.333    & 756.161    & 771.287    & 786.714    & 802.448      & 2021\\\\\n",
       "\t 213 & ARG & NGDP\\_RPCH & Argentina & Gross domestic product, constant prices & Annual percentages of constant price GDP are year-on-year changes; the base year is country-specific. Expenditure-based GDP is total final expenditures at purchasers' prices (including the f.o.b. value of exports of goods and services), less the f.o.b. value of imports of goods and services. {[}SNA 1993{]} & Percent change    & NA       & See notes for:  Gross domestic product, constant prices (National currency).                                                                                                                                                                                                                                                                                & 0.7     & ⋯ &    -9.943 &    10.398 & 5.243     & 0.2        & 2          & 2          & 2          & 2          & 2            & 2021\\\\\n",
       "\t 213 & ARG & NGDP      & Argentina & Gross domestic product, current prices  & Expressed in billions of national currency units. Expenditure-based GDP is total final expenditures at purchasers' prices (including the f.o.b. value of exports of goods and services), less the f.o.b. value of imports of goods and services. {[}SNA 1993{]}                                                     & National currency & Billions & Source: National Statistics Office Latest actual data: 2021 National accounts manual used: System of National Accounts (SNA) 2008 GDP valuation: Market prices Reporting in calendar year: Yes Start/end months of reporting year: January/December Base year: 2004 Chain-weighted: No Primary domestic currency: Argentine peso Data last updated: 03/2023 & --      & ⋯ & 27481.440 & 46282.070 & 82,650.24 & 164,655.09 & 268,792.37 & 403,024.96 & 584,085.98 & 817,219.74 & 1,104,151.70 & 2021\\\\\n",
       "\\end{tabular}\n"
      ],
      "text/markdown": [
       "\n",
       "A tibble: 3 × 59\n",
       "\n",
       "| WEO.Country.Code &lt;dbl&gt; | ISO &lt;chr&gt; | WEO.Subject.Code &lt;chr&gt; | Country &lt;chr&gt; | Subject.Descriptor &lt;chr&gt; | Subject.Notes &lt;chr&gt; | Units &lt;chr&gt; | Scale &lt;chr&gt; | Country.Series.specific.Notes &lt;chr&gt; | X1980 &lt;chr&gt; | ⋯ ⋯ | X2020 &lt;dbl&gt; | X2021 &lt;dbl&gt; | X2022 &lt;chr&gt; | X2023 &lt;chr&gt; | X2024 &lt;chr&gt; | X2025 &lt;chr&gt; | X2026 &lt;chr&gt; | X2027 &lt;chr&gt; | X2028 &lt;chr&gt; | Estimates.Start.After &lt;dbl&gt; |\n",
       "|---|---|---|---|---|---|---|---|---|---|---|---|---|---|---|---|---|---|---|---|---|\n",
       "| 213 | ARG | NGDP_R    | Argentina | Gross domestic product, constant prices | Expressed in billions of national currency units; the base year is country-specific. Expenditure-based GDP is total final expenditures at purchasers' prices (including the f.o.b. value of exports of goods and services), less the f.o.b. value of imports of goods and services. [SNA 1993]                  | National currency | Billions | Source: National Statistics Office Latest actual data: 2021 National accounts manual used: System of National Accounts (SNA) 2008 GDP valuation: Market prices Reporting in calendar year: Yes Start/end months of reporting year: January/December Base year: 2004 Chain-weighted: No Primary domestic currency: Argentine peso Data last updated: 03/2023 | 357.389 | ⋯ |   624.295 |   689.211 | 725.346   | 726.797    | 741.333    | 756.161    | 771.287    | 786.714    | 802.448      | 2021 |\n",
       "| 213 | ARG | NGDP_RPCH | Argentina | Gross domestic product, constant prices | Annual percentages of constant price GDP are year-on-year changes; the base year is country-specific. Expenditure-based GDP is total final expenditures at purchasers' prices (including the f.o.b. value of exports of goods and services), less the f.o.b. value of imports of goods and services. [SNA 1993] | Percent change    | NA       | See notes for:  Gross domestic product, constant prices (National currency).                                                                                                                                                                                                                                                                                | 0.7     | ⋯ |    -9.943 |    10.398 | 5.243     | 0.2        | 2          | 2          | 2          | 2          | 2            | 2021 |\n",
       "| 213 | ARG | NGDP      | Argentina | Gross domestic product, current prices  | Expressed in billions of national currency units. Expenditure-based GDP is total final expenditures at purchasers' prices (including the f.o.b. value of exports of goods and services), less the f.o.b. value of imports of goods and services. [SNA 1993]                                                     | National currency | Billions | Source: National Statistics Office Latest actual data: 2021 National accounts manual used: System of National Accounts (SNA) 2008 GDP valuation: Market prices Reporting in calendar year: Yes Start/end months of reporting year: January/December Base year: 2004 Chain-weighted: No Primary domestic currency: Argentine peso Data last updated: 03/2023 | --      | ⋯ | 27481.440 | 46282.070 | 82,650.24 | 164,655.09 | 268,792.37 | 403,024.96 | 584,085.98 | 817,219.74 | 1,104,151.70 | 2021 |\n",
       "\n"
      ],
      "text/plain": [
       "  WEO.Country.Code ISO WEO.Subject.Code Country  \n",
       "1 213              ARG NGDP_R           Argentina\n",
       "2 213              ARG NGDP_RPCH        Argentina\n",
       "3 213              ARG NGDP             Argentina\n",
       "  Subject.Descriptor                     \n",
       "1 Gross domestic product, constant prices\n",
       "2 Gross domestic product, constant prices\n",
       "3 Gross domestic product, current prices \n",
       "  Subject.Notes                                                                                                                                                                                                                                                                                                  \n",
       "1 Expressed in billions of national currency units; the base year is country-specific. Expenditure-based GDP is total final expenditures at purchasers' prices (including the f.o.b. value of exports of goods and services), less the f.o.b. value of imports of goods and services. [SNA 1993]                 \n",
       "2 Annual percentages of constant price GDP are year-on-year changes; the base year is country-specific. Expenditure-based GDP is total final expenditures at purchasers' prices (including the f.o.b. value of exports of goods and services), less the f.o.b. value of imports of goods and services. [SNA 1993]\n",
       "3 Expressed in billions of national currency units. Expenditure-based GDP is total final expenditures at purchasers' prices (including the f.o.b. value of exports of goods and services), less the f.o.b. value of imports of goods and services. [SNA 1993]                                                    \n",
       "  Units             Scale   \n",
       "1 National currency Billions\n",
       "2 Percent change    NA      \n",
       "3 National currency Billions\n",
       "  Country.Series.specific.Notes                                                                                                                                                                                                                                                                                                                              \n",
       "1 Source: National Statistics Office Latest actual data: 2021 National accounts manual used: System of National Accounts (SNA) 2008 GDP valuation: Market prices Reporting in calendar year: Yes Start/end months of reporting year: January/December Base year: 2004 Chain-weighted: No Primary domestic currency: Argentine peso Data last updated: 03/2023\n",
       "2 See notes for:  Gross domestic product, constant prices (National currency).                                                                                                                                                                                                                                                                               \n",
       "3 Source: National Statistics Office Latest actual data: 2021 National accounts manual used: System of National Accounts (SNA) 2008 GDP valuation: Market prices Reporting in calendar year: Yes Start/end months of reporting year: January/December Base year: 2004 Chain-weighted: No Primary domestic currency: Argentine peso Data last updated: 03/2023\n",
       "  X1980   ⋯ X2020     X2021     X2022     X2023      X2024      X2025     \n",
       "1 357.389 ⋯   624.295   689.211 725.346   726.797    741.333    756.161   \n",
       "2 0.7     ⋯    -9.943    10.398 5.243     0.2        2          2         \n",
       "3 --      ⋯ 27481.440 46282.070 82,650.24 164,655.09 268,792.37 403,024.96\n",
       "  X2026      X2027      X2028        Estimates.Start.After\n",
       "1 771.287    786.714    802.448      2021                 \n",
       "2 2          2          2            2021                 \n",
       "3 584,085.98 817,219.74 1,104,151.70 2021                 "
      ]
     },
     "metadata": {},
     "output_type": "display_data"
    }
   ],
   "source": [
    "G20_economic_data <- read_csv(\"https://raw.githubusercontent.com/mparhar1/DSCI-100-Group-48-Project/main/WEOApri23G20.csv\")\n",
    "colnames(G20_economic_data) <- make.names(colnames(G20_economic_data), unique = TRUE)\n",
    "\n",
    "head(G20_economic_data, n=3)"
   ]
  },
  {
   "cell_type": "code",
   "execution_count": 12,
   "id": "08fb4f27-ac1a-4c8e-a76d-8224e8810bfd",
   "metadata": {},
   "outputs": [
    {
     "data": {
      "text/html": [
       "<table class=\"dataframe\">\n",
       "<caption>A tibble: 6 × 5</caption>\n",
       "<thead>\n",
       "\t<tr><th scope=col>Country</th><th scope=col>Subject.Descriptor</th><th scope=col>Units</th><th scope=col>Year</th><th scope=col>Metric</th></tr>\n",
       "\t<tr><th scope=col>&lt;chr&gt;</th><th scope=col>&lt;chr&gt;</th><th scope=col>&lt;chr&gt;</th><th scope=col>&lt;chr&gt;</th><th scope=col>&lt;dbl&gt;</th></tr>\n",
       "</thead>\n",
       "<tbody>\n",
       "\t<tr><td>Australia</td><td>Gross domestic product per capita, current prices</td><td>U.S. dollars</td><td>X2010</td><td>56579.03</td></tr>\n",
       "\t<tr><td>Australia</td><td>Gross domestic product per capita, current prices</td><td>U.S. dollars</td><td>X2011</td><td>67270.36</td></tr>\n",
       "\t<tr><td>Australia</td><td>Gross domestic product per capita, current prices</td><td>U.S. dollars</td><td>X2012</td><td>68450.31</td></tr>\n",
       "\t<tr><td>Australia</td><td>Gross domestic product per capita, current prices</td><td>U.S. dollars</td><td>X2013</td><td>65200.37</td></tr>\n",
       "\t<tr><td>Australia</td><td>Gross domestic product per capita, current prices</td><td>U.S. dollars</td><td>X2014</td><td>61615.05</td></tr>\n",
       "\t<tr><td>Australia</td><td>Gross domestic product per capita, current prices</td><td>U.S. dollars</td><td>X2015</td><td>51412.25</td></tr>\n",
       "</tbody>\n",
       "</table>\n"
      ],
      "text/latex": [
       "A tibble: 6 × 5\n",
       "\\begin{tabular}{lllll}\n",
       " Country & Subject.Descriptor & Units & Year & Metric\\\\\n",
       " <chr> & <chr> & <chr> & <chr> & <dbl>\\\\\n",
       "\\hline\n",
       "\t Australia & Gross domestic product per capita, current prices & U.S. dollars & X2010 & 56579.03\\\\\n",
       "\t Australia & Gross domestic product per capita, current prices & U.S. dollars & X2011 & 67270.36\\\\\n",
       "\t Australia & Gross domestic product per capita, current prices & U.S. dollars & X2012 & 68450.31\\\\\n",
       "\t Australia & Gross domestic product per capita, current prices & U.S. dollars & X2013 & 65200.37\\\\\n",
       "\t Australia & Gross domestic product per capita, current prices & U.S. dollars & X2014 & 61615.05\\\\\n",
       "\t Australia & Gross domestic product per capita, current prices & U.S. dollars & X2015 & 51412.25\\\\\n",
       "\\end{tabular}\n"
      ],
      "text/markdown": [
       "\n",
       "A tibble: 6 × 5\n",
       "\n",
       "| Country &lt;chr&gt; | Subject.Descriptor &lt;chr&gt; | Units &lt;chr&gt; | Year &lt;chr&gt; | Metric &lt;dbl&gt; |\n",
       "|---|---|---|---|---|\n",
       "| Australia | Gross domestic product per capita, current prices | U.S. dollars | X2010 | 56579.03 |\n",
       "| Australia | Gross domestic product per capita, current prices | U.S. dollars | X2011 | 67270.36 |\n",
       "| Australia | Gross domestic product per capita, current prices | U.S. dollars | X2012 | 68450.31 |\n",
       "| Australia | Gross domestic product per capita, current prices | U.S. dollars | X2013 | 65200.37 |\n",
       "| Australia | Gross domestic product per capita, current prices | U.S. dollars | X2014 | 61615.05 |\n",
       "| Australia | Gross domestic product per capita, current prices | U.S. dollars | X2015 | 51412.25 |\n",
       "\n"
      ],
      "text/plain": [
       "  Country   Subject.Descriptor                                Units       \n",
       "1 Australia Gross domestic product per capita, current prices U.S. dollars\n",
       "2 Australia Gross domestic product per capita, current prices U.S. dollars\n",
       "3 Australia Gross domestic product per capita, current prices U.S. dollars\n",
       "4 Australia Gross domestic product per capita, current prices U.S. dollars\n",
       "5 Australia Gross domestic product per capita, current prices U.S. dollars\n",
       "6 Australia Gross domestic product per capita, current prices U.S. dollars\n",
       "  Year  Metric  \n",
       "1 X2010 56579.03\n",
       "2 X2011 67270.36\n",
       "3 X2012 68450.31\n",
       "4 X2013 65200.37\n",
       "5 X2014 61615.05\n",
       "6 X2015 51412.25"
      ]
     },
     "metadata": {},
     "output_type": "display_data"
    }
   ],
   "source": [
    "tidy_G20_economic_data <- G20_economic_data |>\n",
    "    select(Country, Subject.Descriptor,\n",
    "           Units,\n",
    "           X2010:X2023\n",
    "          ) |>\n",
    "    filter(Subject.Descriptor == \"Gross domestic product per capita, current prices\" & Units == \"U.S. dollars\" |\n",
    "           Subject.Descriptor == \"Volume of imports of goods and services\" |\n",
    "           Subject.Descriptor == \"Volume of exports of goods and services\" | \n",
    "           Subject.Descriptor == \"Inflation, average consumer prices\" & Units == \"Percent change\" |\n",
    "           Subject.Descriptor == \"Unemployment rate\" \n",
    "          ) |>\n",
    "    filter(Country != \"Argentina\" & Country != \"Saudi Arabia\") |>\n",
    "    mutate(X2014 = as.numeric(gsub(\",\",\"\", X2014)),\n",
    "           X2015 = as.numeric(gsub(\",\",\"\", X2015)),\n",
    "           X2016 = as.numeric(gsub(\",\",\"\", X2016)),\n",
    "           X2022 = as.numeric(gsub(\",\",\"\", X2022)),\n",
    "           X2023 = as.numeric(gsub(\",\",\"\", X2023)),\n",
    "          ) |>\n",
    "    pivot_longer(cols = X2010:X2023,\n",
    "                 names_to = \"Year\",\n",
    "                 values_to = \"Metric\"\n",
    "                )\n",
    "\n",
    "head(tidy_G20_economic_data)"
   ]
  },
  {
   "cell_type": "code",
   "execution_count": null,
   "id": "aff019a1-fe11-41cb-b7d9-5867d52ee442",
   "metadata": {},
   "outputs": [],
   "source": []
  }
 ],
 "metadata": {
  "kernelspec": {
   "display_name": "R",
   "language": "R",
   "name": "ir"
  },
  "language_info": {
   "codemirror_mode": "r",
   "file_extension": ".r",
   "mimetype": "text/x-r-source",
   "name": "R",
   "pygments_lexer": "r",
   "version": "4.1.3"
  }
 },
 "nbformat": 4,
 "nbformat_minor": 5
}
