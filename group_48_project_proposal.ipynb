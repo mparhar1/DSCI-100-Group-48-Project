{
 "cells": [
  {
   "cell_type": "markdown",
   "id": "6e8caad6-4578-4a17-a3fa-1a4edf4cedb4",
   "metadata": {},
   "source": [
    "# Investigating the Covid Pandemic Impacts on the Gross Domestic Products of G20 Nations"
   ]
  },
  {
   "cell_type": "markdown",
   "id": "ee3f4fe5-1de8-4da7-9964-b0876a16a0cf",
   "metadata": {},
   "source": [
    "## Introduction"
   ]
  },
  {
   "cell_type": "markdown",
   "id": "3797b551-b12c-4bbe-88aa-ca62990d67f6",
   "metadata": {},
   "source": [
    "The International Monetary Fund keeps data on key economic indicators for countries around the world. Our group will use this data to investigate the effect the Covid pandemic had on the Gross Domestic Product (GDP) per capita of G20 countries. We will use the following variables to predict GDP per capita: Volume of Goods and Services imported and exported, Inflation, and Employment. We will train all the data on the years from 2010 to 2019 to yield a regression that will predict GDP per capita for 2020, 2021, and 2023. We will then compare our predicted values with the actual values in the data for 2020, 2021, 2022, and 2023, the “Covid years.”"
   ]
  },
  {
   "cell_type": "markdown",
   "id": "4556dbeb-ec07-437e-91bc-158f856f8c53",
   "metadata": {},
   "source": [
    "## Preliminary Exploratory Data Analysis"
   ]
  },
  {
   "cell_type": "markdown",
   "id": "4abcace8-934e-4f3c-8fc9-e5e9127d5819",
   "metadata": {},
   "source": [
    "The free dataset from the International Monetary Fund was downloaded from their offical website, saved into our GitHub repository, and read online into this proposal. The dataset was then wrangled to only contain data relevant to our project, the specific variables and observations are identified in our Methods section below. Additionally, the dataset was tidied following the DSCI 100's 3 criterion for tidy data. A summary table and visualization using training data is also shown below."
   ]
  },
  {
   "cell_type": "code",
   "execution_count": 92,
   "id": "83bd6b4d-9afb-4227-babc-29ed0bfec465",
   "metadata": {},
   "outputs": [],
   "source": [
    "library(tidyverse)\n",
    "library(repr)\n",
    "library(dplyr)\n",
    "library(tidymodels)"
   ]
  },
  {
   "cell_type": "code",
   "execution_count": 94,
   "id": "6100a71d-6e50-4f45-ab81-9f36d069697f",
   "metadata": {},
   "outputs": [
    {
     "name": "stderr",
     "output_type": "stream",
     "text": [
      "\u001b[1mRows: \u001b[22m\u001b[34m836\u001b[39m \u001b[1mColumns: \u001b[22m\u001b[34m59\u001b[39m\n",
      "\u001b[36m──\u001b[39m \u001b[1mColumn specification\u001b[22m \u001b[36m────────────────────────────────────────────────────────\u001b[39m\n",
      "\u001b[1mDelimiter:\u001b[22m \",\"\n",
      "\u001b[31mchr\u001b[39m (46): ISO, WEO Subject Code, Country, Subject Descriptor, Subject Notes,...\n",
      "\u001b[32mdbl\u001b[39m  (2): WEO Country Code, Estimates Start After\n",
      "\n",
      "\u001b[36mℹ\u001b[39m Use `spec()` to retrieve the full column specification for this data.\n",
      "\u001b[36mℹ\u001b[39m Specify the column types or set `show_col_types = FALSE` to quiet this message.\n"
     ]
    },
    {
     "data": {
      "text/html": [
       "<table class=\"dataframe\">\n",
       "<caption>A tibble: 3 × 59</caption>\n",
       "<thead>\n",
       "\t<tr><th scope=col>WEO.Country.Code</th><th scope=col>ISO</th><th scope=col>WEO.Subject.Code</th><th scope=col>Country</th><th scope=col>Subject.Descriptor</th><th scope=col>Subject.Notes</th><th scope=col>Units</th><th scope=col>Scale</th><th scope=col>Country.Series.specific.Notes</th><th scope=col>X1980</th><th scope=col>⋯</th><th scope=col>X2020</th><th scope=col>X2021</th><th scope=col>X2022</th><th scope=col>X2023</th><th scope=col>X2024</th><th scope=col>X2025</th><th scope=col>X2026</th><th scope=col>X2027</th><th scope=col>X2028</th><th scope=col>Estimates.Start.After</th></tr>\n",
       "\t<tr><th scope=col>&lt;dbl&gt;</th><th scope=col>&lt;chr&gt;</th><th scope=col>&lt;chr&gt;</th><th scope=col>&lt;chr&gt;</th><th scope=col>&lt;chr&gt;</th><th scope=col>&lt;chr&gt;</th><th scope=col>&lt;chr&gt;</th><th scope=col>&lt;chr&gt;</th><th scope=col>&lt;chr&gt;</th><th scope=col>&lt;chr&gt;</th><th scope=col>⋯</th><th scope=col>&lt;dbl&gt;</th><th scope=col>&lt;dbl&gt;</th><th scope=col>&lt;chr&gt;</th><th scope=col>&lt;chr&gt;</th><th scope=col>&lt;chr&gt;</th><th scope=col>&lt;chr&gt;</th><th scope=col>&lt;chr&gt;</th><th scope=col>&lt;chr&gt;</th><th scope=col>&lt;chr&gt;</th><th scope=col>&lt;dbl&gt;</th></tr>\n",
       "</thead>\n",
       "<tbody>\n",
       "\t<tr><td>213</td><td>ARG</td><td>NGDP_R   </td><td>Argentina</td><td>Gross domestic product, constant prices</td><td>Expressed in billions of national currency units; the base year is country-specific. Expenditure-based GDP is total final expenditures at purchasers' prices (including the f.o.b. value of exports of goods and services), less the f.o.b. value of imports of goods and services. [SNA 1993]                 </td><td>National currency</td><td>Billions</td><td>Source: National Statistics Office Latest actual data: 2021 National accounts manual used: System of National Accounts (SNA) 2008 GDP valuation: Market prices Reporting in calendar year: Yes Start/end months of reporting year: January/December Base year: 2004 Chain-weighted: No Primary domestic currency: Argentine peso Data last updated: 03/2023</td><td>357.389</td><td>⋯</td><td>  624.295</td><td>  689.211</td><td>725.346  </td><td>726.797   </td><td>741.333   </td><td>756.161   </td><td>771.287   </td><td>786.714   </td><td>802.448     </td><td>2021</td></tr>\n",
       "\t<tr><td>213</td><td>ARG</td><td>NGDP_RPCH</td><td>Argentina</td><td>Gross domestic product, constant prices</td><td>Annual percentages of constant price GDP are year-on-year changes; the base year is country-specific. Expenditure-based GDP is total final expenditures at purchasers' prices (including the f.o.b. value of exports of goods and services), less the f.o.b. value of imports of goods and services. [SNA 1993]</td><td>Percent change   </td><td>NA      </td><td>See notes for:  Gross domestic product, constant prices (National currency).                                                                                                                                                                                                                                                                               </td><td>0.7    </td><td>⋯</td><td>   -9.943</td><td>   10.398</td><td>5.243    </td><td>0.2       </td><td>2         </td><td>2         </td><td>2         </td><td>2         </td><td>2           </td><td>2021</td></tr>\n",
       "\t<tr><td>213</td><td>ARG</td><td>NGDP     </td><td>Argentina</td><td>Gross domestic product, current prices </td><td>Expressed in billions of national currency units. Expenditure-based GDP is total final expenditures at purchasers' prices (including the f.o.b. value of exports of goods and services), less the f.o.b. value of imports of goods and services. [SNA 1993]                                                    </td><td>National currency</td><td>Billions</td><td>Source: National Statistics Office Latest actual data: 2021 National accounts manual used: System of National Accounts (SNA) 2008 GDP valuation: Market prices Reporting in calendar year: Yes Start/end months of reporting year: January/December Base year: 2004 Chain-weighted: No Primary domestic currency: Argentine peso Data last updated: 03/2023</td><td>--     </td><td>⋯</td><td>27481.440</td><td>46282.070</td><td>82,650.24</td><td>164,655.09</td><td>268,792.37</td><td>403,024.96</td><td>584,085.98</td><td>817,219.74</td><td>1,104,151.70</td><td>2021</td></tr>\n",
       "</tbody>\n",
       "</table>\n"
      ],
      "text/latex": [
       "A tibble: 3 × 59\n",
       "\\begin{tabular}{lllllllllllllllllllll}\n",
       " WEO.Country.Code & ISO & WEO.Subject.Code & Country & Subject.Descriptor & Subject.Notes & Units & Scale & Country.Series.specific.Notes & X1980 & ⋯ & X2020 & X2021 & X2022 & X2023 & X2024 & X2025 & X2026 & X2027 & X2028 & Estimates.Start.After\\\\\n",
       " <dbl> & <chr> & <chr> & <chr> & <chr> & <chr> & <chr> & <chr> & <chr> & <chr> & ⋯ & <dbl> & <dbl> & <chr> & <chr> & <chr> & <chr> & <chr> & <chr> & <chr> & <dbl>\\\\\n",
       "\\hline\n",
       "\t 213 & ARG & NGDP\\_R    & Argentina & Gross domestic product, constant prices & Expressed in billions of national currency units; the base year is country-specific. Expenditure-based GDP is total final expenditures at purchasers' prices (including the f.o.b. value of exports of goods and services), less the f.o.b. value of imports of goods and services. {[}SNA 1993{]}                  & National currency & Billions & Source: National Statistics Office Latest actual data: 2021 National accounts manual used: System of National Accounts (SNA) 2008 GDP valuation: Market prices Reporting in calendar year: Yes Start/end months of reporting year: January/December Base year: 2004 Chain-weighted: No Primary domestic currency: Argentine peso Data last updated: 03/2023 & 357.389 & ⋯ &   624.295 &   689.211 & 725.346   & 726.797    & 741.333    & 756.161    & 771.287    & 786.714    & 802.448      & 2021\\\\\n",
       "\t 213 & ARG & NGDP\\_RPCH & Argentina & Gross domestic product, constant prices & Annual percentages of constant price GDP are year-on-year changes; the base year is country-specific. Expenditure-based GDP is total final expenditures at purchasers' prices (including the f.o.b. value of exports of goods and services), less the f.o.b. value of imports of goods and services. {[}SNA 1993{]} & Percent change    & NA       & See notes for:  Gross domestic product, constant prices (National currency).                                                                                                                                                                                                                                                                                & 0.7     & ⋯ &    -9.943 &    10.398 & 5.243     & 0.2        & 2          & 2          & 2          & 2          & 2            & 2021\\\\\n",
       "\t 213 & ARG & NGDP      & Argentina & Gross domestic product, current prices  & Expressed in billions of national currency units. Expenditure-based GDP is total final expenditures at purchasers' prices (including the f.o.b. value of exports of goods and services), less the f.o.b. value of imports of goods and services. {[}SNA 1993{]}                                                     & National currency & Billions & Source: National Statistics Office Latest actual data: 2021 National accounts manual used: System of National Accounts (SNA) 2008 GDP valuation: Market prices Reporting in calendar year: Yes Start/end months of reporting year: January/December Base year: 2004 Chain-weighted: No Primary domestic currency: Argentine peso Data last updated: 03/2023 & --      & ⋯ & 27481.440 & 46282.070 & 82,650.24 & 164,655.09 & 268,792.37 & 403,024.96 & 584,085.98 & 817,219.74 & 1,104,151.70 & 2021\\\\\n",
       "\\end{tabular}\n"
      ],
      "text/markdown": [
       "\n",
       "A tibble: 3 × 59\n",
       "\n",
       "| WEO.Country.Code &lt;dbl&gt; | ISO &lt;chr&gt; | WEO.Subject.Code &lt;chr&gt; | Country &lt;chr&gt; | Subject.Descriptor &lt;chr&gt; | Subject.Notes &lt;chr&gt; | Units &lt;chr&gt; | Scale &lt;chr&gt; | Country.Series.specific.Notes &lt;chr&gt; | X1980 &lt;chr&gt; | ⋯ ⋯ | X2020 &lt;dbl&gt; | X2021 &lt;dbl&gt; | X2022 &lt;chr&gt; | X2023 &lt;chr&gt; | X2024 &lt;chr&gt; | X2025 &lt;chr&gt; | X2026 &lt;chr&gt; | X2027 &lt;chr&gt; | X2028 &lt;chr&gt; | Estimates.Start.After &lt;dbl&gt; |\n",
       "|---|---|---|---|---|---|---|---|---|---|---|---|---|---|---|---|---|---|---|---|---|\n",
       "| 213 | ARG | NGDP_R    | Argentina | Gross domestic product, constant prices | Expressed in billions of national currency units; the base year is country-specific. Expenditure-based GDP is total final expenditures at purchasers' prices (including the f.o.b. value of exports of goods and services), less the f.o.b. value of imports of goods and services. [SNA 1993]                  | National currency | Billions | Source: National Statistics Office Latest actual data: 2021 National accounts manual used: System of National Accounts (SNA) 2008 GDP valuation: Market prices Reporting in calendar year: Yes Start/end months of reporting year: January/December Base year: 2004 Chain-weighted: No Primary domestic currency: Argentine peso Data last updated: 03/2023 | 357.389 | ⋯ |   624.295 |   689.211 | 725.346   | 726.797    | 741.333    | 756.161    | 771.287    | 786.714    | 802.448      | 2021 |\n",
       "| 213 | ARG | NGDP_RPCH | Argentina | Gross domestic product, constant prices | Annual percentages of constant price GDP are year-on-year changes; the base year is country-specific. Expenditure-based GDP is total final expenditures at purchasers' prices (including the f.o.b. value of exports of goods and services), less the f.o.b. value of imports of goods and services. [SNA 1993] | Percent change    | NA       | See notes for:  Gross domestic product, constant prices (National currency).                                                                                                                                                                                                                                                                                | 0.7     | ⋯ |    -9.943 |    10.398 | 5.243     | 0.2        | 2          | 2          | 2          | 2          | 2            | 2021 |\n",
       "| 213 | ARG | NGDP      | Argentina | Gross domestic product, current prices  | Expressed in billions of national currency units. Expenditure-based GDP is total final expenditures at purchasers' prices (including the f.o.b. value of exports of goods and services), less the f.o.b. value of imports of goods and services. [SNA 1993]                                                     | National currency | Billions | Source: National Statistics Office Latest actual data: 2021 National accounts manual used: System of National Accounts (SNA) 2008 GDP valuation: Market prices Reporting in calendar year: Yes Start/end months of reporting year: January/December Base year: 2004 Chain-weighted: No Primary domestic currency: Argentine peso Data last updated: 03/2023 | --      | ⋯ | 27481.440 | 46282.070 | 82,650.24 | 164,655.09 | 268,792.37 | 403,024.96 | 584,085.98 | 817,219.74 | 1,104,151.70 | 2021 |\n",
       "\n"
      ],
      "text/plain": [
       "  WEO.Country.Code ISO WEO.Subject.Code Country  \n",
       "1 213              ARG NGDP_R           Argentina\n",
       "2 213              ARG NGDP_RPCH        Argentina\n",
       "3 213              ARG NGDP             Argentina\n",
       "  Subject.Descriptor                     \n",
       "1 Gross domestic product, constant prices\n",
       "2 Gross domestic product, constant prices\n",
       "3 Gross domestic product, current prices \n",
       "  Subject.Notes                                                                                                                                                                                                                                                                                                  \n",
       "1 Expressed in billions of national currency units; the base year is country-specific. Expenditure-based GDP is total final expenditures at purchasers' prices (including the f.o.b. value of exports of goods and services), less the f.o.b. value of imports of goods and services. [SNA 1993]                 \n",
       "2 Annual percentages of constant price GDP are year-on-year changes; the base year is country-specific. Expenditure-based GDP is total final expenditures at purchasers' prices (including the f.o.b. value of exports of goods and services), less the f.o.b. value of imports of goods and services. [SNA 1993]\n",
       "3 Expressed in billions of national currency units. Expenditure-based GDP is total final expenditures at purchasers' prices (including the f.o.b. value of exports of goods and services), less the f.o.b. value of imports of goods and services. [SNA 1993]                                                    \n",
       "  Units             Scale   \n",
       "1 National currency Billions\n",
       "2 Percent change    NA      \n",
       "3 National currency Billions\n",
       "  Country.Series.specific.Notes                                                                                                                                                                                                                                                                                                                              \n",
       "1 Source: National Statistics Office Latest actual data: 2021 National accounts manual used: System of National Accounts (SNA) 2008 GDP valuation: Market prices Reporting in calendar year: Yes Start/end months of reporting year: January/December Base year: 2004 Chain-weighted: No Primary domestic currency: Argentine peso Data last updated: 03/2023\n",
       "2 See notes for:  Gross domestic product, constant prices (National currency).                                                                                                                                                                                                                                                                               \n",
       "3 Source: National Statistics Office Latest actual data: 2021 National accounts manual used: System of National Accounts (SNA) 2008 GDP valuation: Market prices Reporting in calendar year: Yes Start/end months of reporting year: January/December Base year: 2004 Chain-weighted: No Primary domestic currency: Argentine peso Data last updated: 03/2023\n",
       "  X1980   ⋯ X2020     X2021     X2022     X2023      X2024      X2025     \n",
       "1 357.389 ⋯   624.295   689.211 725.346   726.797    741.333    756.161   \n",
       "2 0.7     ⋯    -9.943    10.398 5.243     0.2        2          2         \n",
       "3 --      ⋯ 27481.440 46282.070 82,650.24 164,655.09 268,792.37 403,024.96\n",
       "  X2026      X2027      X2028        Estimates.Start.After\n",
       "1 771.287    786.714    802.448      2021                 \n",
       "2 2          2          2            2021                 \n",
       "3 584,085.98 817,219.74 1,104,151.70 2021                 "
      ]
     },
     "metadata": {},
     "output_type": "display_data"
    }
   ],
   "source": [
    "G20_economic_data <- read_csv(\"https://raw.githubusercontent.com/mparhar1/DSCI-100-Group-48-Project/main/WEOApri23G20.csv\")\n",
    "colnames(G20_economic_data) <- make.names(colnames(G20_economic_data), unique = TRUE)\n",
    "\n",
    "head(G20_economic_data, n=3)"
   ]
  },
  {
   "cell_type": "code",
   "execution_count": 95,
   "id": "08fb4f27-ac1a-4c8e-a76d-8224e8810bfd",
   "metadata": {},
   "outputs": [
    {
     "name": "stderr",
     "output_type": "stream",
     "text": [
      "\u001b[1m\u001b[22m`summarise()` has grouped output by 'Country', 'Year'. You can override using\n",
      "the `.groups` argument.\n"
     ]
    },
    {
     "data": {
      "text/html": [
       "<table class=\"dataframe\">\n",
       "<caption>A grouped_df: 6 × 7</caption>\n",
       "<thead>\n",
       "\t<tr><th scope=col>Country</th><th scope=col>Year</th><th scope=col>Gross.domestic.product.per.capita..current.prices</th><th scope=col>Inflation..average.consumer.prices</th><th scope=col>Unemployment.rate</th><th scope=col>Volume.of.exports.of.goods.and.services</th><th scope=col>Volume.of.imports.of.goods.and.services</th></tr>\n",
       "\t<tr><th scope=col>&lt;chr&gt;</th><th scope=col>&lt;chr&gt;</th><th scope=col>&lt;dbl&gt;</th><th scope=col>&lt;dbl&gt;</th><th scope=col>&lt;dbl&gt;</th><th scope=col>&lt;dbl&gt;</th><th scope=col>&lt;dbl&gt;</th></tr>\n",
       "</thead>\n",
       "<tbody>\n",
       "\t<tr><td>Australia</td><td>X2010</td><td>56579.03</td><td>2.863</td><td>5.208</td><td> 5.709</td><td>16.142</td></tr>\n",
       "\t<tr><td>Australia</td><td>X2011</td><td>67270.36</td><td>3.356</td><td>5.083</td><td>-0.144</td><td>10.557</td></tr>\n",
       "\t<tr><td>Australia</td><td>X2012</td><td>68450.31</td><td>1.686</td><td>5.233</td><td> 5.420</td><td> 6.183</td></tr>\n",
       "\t<tr><td>Australia</td><td>X2013</td><td>65200.37</td><td>2.450</td><td>5.658</td><td> 5.890</td><td>-2.284</td></tr>\n",
       "\t<tr><td>Australia</td><td>X2014</td><td>61615.05</td><td>2.513</td><td>6.058</td><td> 7.010</td><td>-1.410</td></tr>\n",
       "\t<tr><td>Australia</td><td>X2015</td><td>51412.25</td><td>1.485</td><td>6.050</td><td> 6.319</td><td> 2.265</td></tr>\n",
       "</tbody>\n",
       "</table>\n"
      ],
      "text/latex": [
       "A grouped\\_df: 6 × 7\n",
       "\\begin{tabular}{lllllll}\n",
       " Country & Year & Gross.domestic.product.per.capita..current.prices & Inflation..average.consumer.prices & Unemployment.rate & Volume.of.exports.of.goods.and.services & Volume.of.imports.of.goods.and.services\\\\\n",
       " <chr> & <chr> & <dbl> & <dbl> & <dbl> & <dbl> & <dbl>\\\\\n",
       "\\hline\n",
       "\t Australia & X2010 & 56579.03 & 2.863 & 5.208 &  5.709 & 16.142\\\\\n",
       "\t Australia & X2011 & 67270.36 & 3.356 & 5.083 & -0.144 & 10.557\\\\\n",
       "\t Australia & X2012 & 68450.31 & 1.686 & 5.233 &  5.420 &  6.183\\\\\n",
       "\t Australia & X2013 & 65200.37 & 2.450 & 5.658 &  5.890 & -2.284\\\\\n",
       "\t Australia & X2014 & 61615.05 & 2.513 & 6.058 &  7.010 & -1.410\\\\\n",
       "\t Australia & X2015 & 51412.25 & 1.485 & 6.050 &  6.319 &  2.265\\\\\n",
       "\\end{tabular}\n"
      ],
      "text/markdown": [
       "\n",
       "A grouped_df: 6 × 7\n",
       "\n",
       "| Country &lt;chr&gt; | Year &lt;chr&gt; | Gross.domestic.product.per.capita..current.prices &lt;dbl&gt; | Inflation..average.consumer.prices &lt;dbl&gt; | Unemployment.rate &lt;dbl&gt; | Volume.of.exports.of.goods.and.services &lt;dbl&gt; | Volume.of.imports.of.goods.and.services &lt;dbl&gt; |\n",
       "|---|---|---|---|---|---|---|\n",
       "| Australia | X2010 | 56579.03 | 2.863 | 5.208 |  5.709 | 16.142 |\n",
       "| Australia | X2011 | 67270.36 | 3.356 | 5.083 | -0.144 | 10.557 |\n",
       "| Australia | X2012 | 68450.31 | 1.686 | 5.233 |  5.420 |  6.183 |\n",
       "| Australia | X2013 | 65200.37 | 2.450 | 5.658 |  5.890 | -2.284 |\n",
       "| Australia | X2014 | 61615.05 | 2.513 | 6.058 |  7.010 | -1.410 |\n",
       "| Australia | X2015 | 51412.25 | 1.485 | 6.050 |  6.319 |  2.265 |\n",
       "\n"
      ],
      "text/plain": [
       "  Country   Year  Gross.domestic.product.per.capita..current.prices\n",
       "1 Australia X2010 56579.03                                         \n",
       "2 Australia X2011 67270.36                                         \n",
       "3 Australia X2012 68450.31                                         \n",
       "4 Australia X2013 65200.37                                         \n",
       "5 Australia X2014 61615.05                                         \n",
       "6 Australia X2015 51412.25                                         \n",
       "  Inflation..average.consumer.prices Unemployment.rate\n",
       "1 2.863                              5.208            \n",
       "2 3.356                              5.083            \n",
       "3 1.686                              5.233            \n",
       "4 2.450                              5.658            \n",
       "5 2.513                              6.058            \n",
       "6 1.485                              6.050            \n",
       "  Volume.of.exports.of.goods.and.services\n",
       "1  5.709                                 \n",
       "2 -0.144                                 \n",
       "3  5.420                                 \n",
       "4  5.890                                 \n",
       "5  7.010                                 \n",
       "6  6.319                                 \n",
       "  Volume.of.imports.of.goods.and.services\n",
       "1 16.142                                 \n",
       "2 10.557                                 \n",
       "3  6.183                                 \n",
       "4 -2.284                                 \n",
       "5 -1.410                                 \n",
       "6  2.265                                 "
      ]
     },
     "metadata": {},
     "output_type": "display_data"
    }
   ],
   "source": [
    "tidy_G20_economic_data <- G20_economic_data |>\n",
    "    select(Country,\n",
    "           Subject.Descriptor,\n",
    "           Units,\n",
    "           X2010:X2023\n",
    "          ) |>\n",
    "    filter(Subject.Descriptor == \"Gross domestic product per capita, current prices\" & Units == \"U.S. dollars\" |\n",
    "           Subject.Descriptor == \"Volume of imports of goods and services\" |\n",
    "           Subject.Descriptor == \"Volume of exports of goods and services\" | \n",
    "           Subject.Descriptor == \"Inflation, average consumer prices\" & Units == \"Percent change\" |\n",
    "           Subject.Descriptor == \"Unemployment rate\" \n",
    "          ) |>\n",
    "    filter(Country != \"Argentina\" & Country != \"Saudi Arabia\") |>\n",
    "    mutate(X2014 = as.numeric(gsub(\",\",\"\", X2014)),\n",
    "           X2015 = as.numeric(gsub(\",\",\"\", X2015)),\n",
    "           X2016 = as.numeric(gsub(\",\",\"\", X2016)),\n",
    "           X2022 = as.numeric(gsub(\",\",\"\", X2022)),\n",
    "           X2023 = as.numeric(gsub(\",\",\"\", X2023)),\n",
    "          ) |>\n",
    "    pivot_longer(cols = X2010:X2023,\n",
    "                 names_to = \"Year\",\n",
    "                 values_to = \"Metric\"\n",
    "                ) |>\n",
    "    group_by(Country, Year, Subject.Descriptor) |>\n",
    "    summarise(Metric = mean(Metric, na.rm = TRUE)) |>\n",
    "    pivot_wider(names_from = Subject.Descriptor,\n",
    "                values_from = Metric\n",
    "               )\n",
    "\n",
    "colnames(tidy_G20_economic_data) <- make.names(colnames(tidy_G20_economic_data), unique = TRUE)\n",
    "\n",
    "head(tidy_G20_economic_data)"
   ]
  },
  {
   "cell_type": "code",
   "execution_count": 111,
   "id": "c37566b6-cfcc-4a84-89e7-f63f0cdd34a0",
   "metadata": {},
   "outputs": [
    {
     "data": {
      "text/html": [
       "<table class=\"dataframe\">\n",
       "<caption>A tibble: 17 × 2</caption>\n",
       "<thead>\n",
       "\t<tr><th scope=col>Country</th><th scope=col>mean_gdp</th></tr>\n",
       "\t<tr><th scope=col>&lt;chr&gt;</th><th scope=col>&lt;dbl&gt;</th></tr>\n",
       "</thead>\n",
       "<tbody>\n",
       "\t<tr><td>Australia     </td><td>58874.708</td></tr>\n",
       "\t<tr><td>Brazil        </td><td>10727.808</td></tr>\n",
       "\t<tr><td>Canada        </td><td>48066.366</td></tr>\n",
       "\t<tr><td>China         </td><td> 7589.821</td></tr>\n",
       "\t<tr><td>France        </td><td>42013.763</td></tr>\n",
       "\t<tr><td>Germany       </td><td>44992.377</td></tr>\n",
       "\t<tr><td>India         </td><td> 1654.561</td></tr>\n",
       "\t<tr><td>Indonesia     </td><td> 3682.902</td></tr>\n",
       "\t<tr><td>Italy         </td><td>34305.552</td></tr>\n",
       "\t<tr><td>Japan         </td><td>41624.797</td></tr>\n",
       "\t<tr><td>Korea         </td><td>28503.095</td></tr>\n",
       "\t<tr><td>Mexico        </td><td> 9909.721</td></tr>\n",
       "\t<tr><td>Russia        </td><td>12248.421</td></tr>\n",
       "\t<tr><td>South Africa  </td><td> 7184.719</td></tr>\n",
       "\t<tr><td>Türkiye       </td><td>10909.566</td></tr>\n",
       "\t<tr><td>United Kingdom</td><td>42854.555</td></tr>\n",
       "\t<tr><td>United States </td><td>56097.364</td></tr>\n",
       "</tbody>\n",
       "</table>\n"
      ],
      "text/latex": [
       "A tibble: 17 × 2\n",
       "\\begin{tabular}{ll}\n",
       " Country & mean\\_gdp\\\\\n",
       " <chr> & <dbl>\\\\\n",
       "\\hline\n",
       "\t Australia      & 58874.708\\\\\n",
       "\t Brazil         & 10727.808\\\\\n",
       "\t Canada         & 48066.366\\\\\n",
       "\t China          &  7589.821\\\\\n",
       "\t France         & 42013.763\\\\\n",
       "\t Germany        & 44992.377\\\\\n",
       "\t India          &  1654.561\\\\\n",
       "\t Indonesia      &  3682.902\\\\\n",
       "\t Italy          & 34305.552\\\\\n",
       "\t Japan          & 41624.797\\\\\n",
       "\t Korea          & 28503.095\\\\\n",
       "\t Mexico         &  9909.721\\\\\n",
       "\t Russia         & 12248.421\\\\\n",
       "\t South Africa   &  7184.719\\\\\n",
       "\t Türkiye        & 10909.566\\\\\n",
       "\t United Kingdom & 42854.555\\\\\n",
       "\t United States  & 56097.364\\\\\n",
       "\\end{tabular}\n"
      ],
      "text/markdown": [
       "\n",
       "A tibble: 17 × 2\n",
       "\n",
       "| Country &lt;chr&gt; | mean_gdp &lt;dbl&gt; |\n",
       "|---|---|\n",
       "| Australia      | 58874.708 |\n",
       "| Brazil         | 10727.808 |\n",
       "| Canada         | 48066.366 |\n",
       "| China          |  7589.821 |\n",
       "| France         | 42013.763 |\n",
       "| Germany        | 44992.377 |\n",
       "| India          |  1654.561 |\n",
       "| Indonesia      |  3682.902 |\n",
       "| Italy          | 34305.552 |\n",
       "| Japan          | 41624.797 |\n",
       "| Korea          | 28503.095 |\n",
       "| Mexico         |  9909.721 |\n",
       "| Russia         | 12248.421 |\n",
       "| South Africa   |  7184.719 |\n",
       "| Türkiye        | 10909.566 |\n",
       "| United Kingdom | 42854.555 |\n",
       "| United States  | 56097.364 |\n",
       "\n"
      ],
      "text/plain": [
       "   Country        mean_gdp \n",
       "1  Australia      58874.708\n",
       "2  Brazil         10727.808\n",
       "3  Canada         48066.366\n",
       "4  China           7589.821\n",
       "5  France         42013.763\n",
       "6  Germany        44992.377\n",
       "7  India           1654.561\n",
       "8  Indonesia       3682.902\n",
       "9  Italy          34305.552\n",
       "10 Japan          41624.797\n",
       "11 Korea          28503.095\n",
       "12 Mexico          9909.721\n",
       "13 Russia         12248.421\n",
       "14 South Africa    7184.719\n",
       "15 Türkiye        10909.566\n",
       "16 United Kingdom 42854.555\n",
       "17 United States  56097.364"
      ]
     },
     "metadata": {},
     "output_type": "display_data"
    },
    {
     "data": {
      "image/png": "[encoded data removed]",
      "text/plain": [
       "plot without title"
      ]
     },
     "metadata": {
      "image/png": {
       "height": 540,
       "width": 960
      }
     },
     "output_type": "display_data"
    }
   ],
   "source": [
    "econ_training_data <- tidy_G20_economic_data |>\n",
    "    filter(Year >= \"X2010\" & Year <= \"X2019\")\n",
    "\n",
    "econ_testing_data <- tidy_G20_economic_data |>\n",
    "    filter(Year >= \"X2020\" & Year <= \"X2023\")\n",
    "\n",
    "gdp_means_by_nation <- econ_training_data |>\n",
    "    group_by(Country) |>\n",
    "    summarise(mean_gdp = mean(Gross.domestic.product.per.capita..current.prices))\n",
    "\n",
    "options(repr.plot.width = 16, repr.plot.height = 9)\n",
    "gdp_plot <- ggplot(gdp_means_by_nation, aes(x = Country, y = mean_gdp)) +\n",
    "    geom_bar(stat = \"identity\") +\n",
    "    ggtitle(\"Average Gross Domestic Product Among G20 Nations\") +\n",
    "    xlab(\"G20 Member Nations\") +\n",
    "    ylab(\"Average Gross Domestic Product (GDP), mean\") +\n",
    "    coord_flip() +\n",
    "    theme(text = element_text(size = 20))\n",
    "\n",
    "gdp_means_by_nation\n",
    "gdp_plot"
   ]
  },
  {
   "cell_type": "markdown",
   "id": "d82ce821-a923-4ce5-b843-e68448d557b1",
   "metadata": {},
   "source": [
    "## Methods"
   ]
  },
  {
   "cell_type": "markdown",
   "id": "3418a9d1-15f8-4bff-b9d3-4f2d9ddbe1ca",
   "metadata": {},
   "source": [
    "The variables we’ll use to predict Gross domestic product per capita (GDP), current prices ($USD) are: volume of imports of goods and services, volume of exports of goods and services, inflation average consumer prices and the variable unemployment; which we will mutate into an employment variable.\n",
    "\n",
    "To visualize our results we’ll be plotting the data into nineteen separate grids each representing a line graph for its respective country (*note:* the Eurpean Union (EU) is a G20 member but will not be examined as its GDP is more complicated, and Argentina and Saudi Arabia will not be examined as they did not have complete data), with the year as the x-axis and GDP in the y-axis. "
   ]
  },
  {
   "cell_type": "markdown",
   "id": "a15f5bb8-23fe-4512-a5ca-6e72a77b7f6c",
   "metadata": {},
   "source": [
    "## Expected Outcomes and Significance"
   ]
  },
  {
   "cell_type": "markdown",
   "id": "49622591-e7bf-4388-8d2b-7ac5a48bb2db",
   "metadata": {},
   "source": [
    "We expect to find that the COVID pandemic caused a decrease in GDP per capita of G20 countries. For example, the variable, Volume of Goods and Services imported and exported and Employment, was seen to decline amidst the pandemic. Whilst Inflation has risen, thus consumption lessens, leading to a decrease in GDP per capita.\n",
    "\n",
    "Our findings provide us a better understanding of the impact of the COVID pandemic. It helps us visualise how necessary each variable is in our way of life. Further, our findings could predict how the economy will be impacted from future devastations, and better prepare us for what is to come.\n",
    "\n",
    "Some questions could include, whether in this new era, where the world is gradually healing from COVID, could the data used, still be able to predict the GDP of years to come?"
   ]
  }
 ],
 "metadata": {
  "kernelspec": {
   "display_name": "R",
   "language": "R",
   "name": "ir"
  },
  "language_info": {
   "codemirror_mode": "r",
   "file_extension": ".r",
   "mimetype": "text/x-r-source",
   "name": "R",
   "pygments_lexer": "r",
   "version": "4.1.3"
  }
 },
 "nbformat": 4,
 "nbformat_minor": 5
}
